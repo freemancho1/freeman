{
 "cells": [
  {
   "cell_type": "markdown",
   "metadata": {},
   "source": [
    "# IMDB Positive-Negative Classification"
   ]
  },
  {
   "cell_type": "markdown",
   "metadata": {},
   "source": [
    "## Preparation"
   ]
  },
  {
   "cell_type": "markdown",
   "metadata": {},
   "source": [
    "### Load the Library"
   ]
  },
  {
   "cell_type": "code",
   "execution_count": 1,
   "metadata": {},
   "outputs": [
    {
     "data": {
      "text/plain": [
       "'2.7.4'"
      ]
     },
     "execution_count": 1,
     "metadata": {},
     "output_type": "execute_result"
    }
   ],
   "source": [
    "import tensorflow as tf\n",
    "import numpy as np\n",
    "import matplotlib.pyplot as plt\n",
    "from collections import Counter\n",
    "\n",
    "tf.__version__"
   ]
  },
  {
   "cell_type": "markdown",
   "metadata": {},
   "source": [
    "### Prepare Training Data"
   ]
  },
  {
   "cell_type": "code",
   "execution_count": 2,
   "metadata": {},
   "outputs": [
    {
     "data": {
      "text/plain": [
       "(25000,)"
      ]
     },
     "execution_count": 2,
     "metadata": {},
     "output_type": "execute_result"
    }
   ],
   "source": [
    "train_ds, test_ds = tf.keras.datasets.imdb.load_data(num_words=10000)\n",
    "train_ds[0].shape"
   ]
  },
  {
   "cell_type": "code",
   "execution_count": 3,
   "metadata": {},
   "outputs": [
    {
     "data": {
      "text/plain": [
       "numpy.ndarray"
      ]
     },
     "execution_count": 3,
     "metadata": {},
     "output_type": "execute_result"
    }
   ],
   "source": [
    "type(train_ds[0])"
   ]
  },
  {
   "cell_type": "code",
   "execution_count": 4,
   "metadata": {},
   "outputs": [
    {
     "data": {
      "text/plain": [
       "(0, 189)"
      ]
     },
     "execution_count": 4,
     "metadata": {},
     "output_type": "execute_result"
    }
   ],
   "source": [
    "train_ds[1][1], len(train_ds[0][1])"
   ]
  },
  {
   "cell_type": "code",
   "execution_count": 5,
   "metadata": {},
   "outputs": [
    {
     "data": {
      "text/plain": [
       "2494"
      ]
     },
     "execution_count": 5,
     "metadata": {},
     "output_type": "execute_result"
    }
   ],
   "source": [
    "max([len(x) for x in train_ds[0]])"
   ]
  },
  {
   "cell_type": "code",
   "execution_count": 6,
   "metadata": {},
   "outputs": [
    {
     "data": {
      "text/plain": [
       "9999"
      ]
     },
     "execution_count": 6,
     "metadata": {},
     "output_type": "execute_result"
    }
   ],
   "source": [
    "# The largest number of dictionary sequences in each sentence\n",
    "# Estimated: 9999 = Top 10000(0~9999) extractions of maximum frequency\n",
    "max([max(x) for x in train_ds[0]])  "
   ]
  },
  {
   "cell_type": "code",
   "execution_count": 60,
   "metadata": {},
   "outputs": [
    {
     "data": {
      "text/plain": [
       "88584"
      ]
     },
     "execution_count": 60,
     "metadata": {},
     "output_type": "execute_result"
    }
   ],
   "source": [
    "len(word_index)"
   ]
  },
  {
   "cell_type": "markdown",
   "metadata": {},
   "source": [
    "#### Convert Numbers to Text for Fun"
   ]
  },
  {
   "cell_type": "code",
   "execution_count": 7,
   "metadata": {},
   "outputs": [
    {
     "data": {
      "text/plain": [
       "(dict, 88584, 2238)"
      ]
     },
     "execution_count": 7,
     "metadata": {},
     "output_type": "execute_result"
    }
   ],
   "source": [
    "word_index = tf.keras.datasets.imdb.get_word_index()\n",
    "type(word_index), len(word_index), word_index[\"0\"]   # word_index = {\"abc\": 1235, \"exfs\": 67896, ...}"
   ]
  },
  {
   "cell_type": "code",
   "execution_count": 8,
   "metadata": {},
   "outputs": [],
   "source": [
    "# (key, value) -> (value, key)\n",
    "# 0: padding(<PAD>), 1: start of document(<START>), 2: out of vocabulary(<OOV>), 3: invalid(<INV>)\n",
    "reverse_word_index = dict([(value+3, key) for (key, value) in word_index.items()])\n",
    "reverse_word_index[0] = \"<PAD>\"\n",
    "reverse_word_index[1] = \"<START>\"\n",
    "reverse_word_index[2] = \"<OOV>\"\n",
    "reverse_word_index[3] = \"<INV\""
   ]
  },
  {
   "cell_type": "code",
   "execution_count": 9,
   "metadata": {},
   "outputs": [
    {
     "data": {
      "text/plain": [
       "\"<START> big hair big boobs bad music and a giant safety pin these are the words to best describe this terrible movie i love cheesy horror movies and i've seen hundreds but this had got to be on of the worst ever made the plot is paper thin and ridiculous the acting is an abomination the script is completely laughable the best is the end showdown with the cop and how he worked out who the killer is it's just so damn terribly written the clothes are sickening and funny in equal <OOV> the hair is big lots of boobs <OOV> men wear those cut <OOV> shirts that show off their <OOV> sickening that men actually wore them and the music is just <OOV> trash that plays over and over again in almost every scene there is trashy music boobs and <OOV> taking away bodies and the gym still doesn't close for <OOV> all joking aside this is a truly bad film whose only charm is to look back on the disaster that was the 80's and have a good old laugh at how bad everything was back then\""
      ]
     },
     "execution_count": 9,
     "metadata": {},
     "output_type": "execute_result"
    }
   ],
   "source": [
    "decode_review = ' '.join([reverse_word_index.get(i,\"?\") for i in train_ds[0][1]])\n",
    "decode_review"
   ]
  },
  {
   "cell_type": "markdown",
   "metadata": {},
   "source": [
    "### Convert a sentence to a number of the same length\n",
    "\n",
    "* 인덱스가 올 수 있는 최대 크기인 10000개로 구성된 One-Hot Encoding 구현\n",
    "* 문제점은 한 문장에 같은 인덱스가 여러번 올 수 있는데(예 한 문장에 'the'가 여러번 올 경우) 이 경우 한번만 표현 됨"
   ]
  },
  {
   "cell_type": "code",
   "execution_count": 10,
   "metadata": {},
   "outputs": [],
   "source": [
    "def vectorize_sentences(setences, dims=10000):\n",
    "    results = np.zeros((len(setences), dims))\n",
    "    for idx, setence in enumerate(setences):\n",
    "        results[idx, setence] = 1.\n",
    "    return results\n",
    "\n",
    "train_x = vectorize_sentences(train_ds[0])\n",
    "test_x = vectorize_sentences(test_ds[0])"
   ]
  },
  {
   "cell_type": "code",
   "execution_count": 11,
   "metadata": {},
   "outputs": [],
   "source": [
    "train_y = np.array(train_ds[1]).astype(\"float32\")\n",
    "test_y = np.array(test_ds[1]).astype(\"float32\")"
   ]
  },
  {
   "cell_type": "markdown",
   "metadata": {},
   "source": [
    "## Define & Training Model"
   ]
  },
  {
   "cell_type": "markdown",
   "metadata": {},
   "source": [
    "### Two Dense & Relu"
   ]
  },
  {
   "cell_type": "code",
   "execution_count": 12,
   "metadata": {},
   "outputs": [
    {
     "name": "stderr",
     "output_type": "stream",
     "text": [
      "2022-10-09 23:22:31.331395: I tensorflow/stream_executor/cuda/cuda_gpu_executor.cc:939] successful NUMA node read from SysFS had negative value (-1), but there must be at least one NUMA node, so returning NUMA node zero\n",
      "2022-10-09 23:22:31.383543: I tensorflow/stream_executor/cuda/cuda_gpu_executor.cc:939] successful NUMA node read from SysFS had negative value (-1), but there must be at least one NUMA node, so returning NUMA node zero\n",
      "2022-10-09 23:22:31.383769: I tensorflow/stream_executor/cuda/cuda_gpu_executor.cc:939] successful NUMA node read from SysFS had negative value (-1), but there must be at least one NUMA node, so returning NUMA node zero\n",
      "2022-10-09 23:22:31.384506: I tensorflow/core/platform/cpu_feature_guard.cc:151] This TensorFlow binary is optimized with oneAPI Deep Neural Network Library (oneDNN) to use the following CPU instructions in performance-critical operations:  AVX2 FMA\n",
      "To enable them in other operations, rebuild TensorFlow with the appropriate compiler flags.\n",
      "2022-10-09 23:22:31.385040: I tensorflow/stream_executor/cuda/cuda_gpu_executor.cc:939] successful NUMA node read from SysFS had negative value (-1), but there must be at least one NUMA node, so returning NUMA node zero\n",
      "2022-10-09 23:22:31.385199: I tensorflow/stream_executor/cuda/cuda_gpu_executor.cc:939] successful NUMA node read from SysFS had negative value (-1), but there must be at least one NUMA node, so returning NUMA node zero\n",
      "2022-10-09 23:22:31.385328: I tensorflow/stream_executor/cuda/cuda_gpu_executor.cc:939] successful NUMA node read from SysFS had negative value (-1), but there must be at least one NUMA node, so returning NUMA node zero\n",
      "2022-10-09 23:22:31.756251: I tensorflow/stream_executor/cuda/cuda_gpu_executor.cc:939] successful NUMA node read from SysFS had negative value (-1), but there must be at least one NUMA node, so returning NUMA node zero\n",
      "2022-10-09 23:22:31.756497: I tensorflow/stream_executor/cuda/cuda_gpu_executor.cc:939] successful NUMA node read from SysFS had negative value (-1), but there must be at least one NUMA node, so returning NUMA node zero\n",
      "2022-10-09 23:22:31.756627: I tensorflow/stream_executor/cuda/cuda_gpu_executor.cc:939] successful NUMA node read from SysFS had negative value (-1), but there must be at least one NUMA node, so returning NUMA node zero\n",
      "2022-10-09 23:22:31.756742: I tensorflow/core/common_runtime/gpu/gpu_device.cc:1525] Created device /job:localhost/replica:0/task:0/device:GPU:0 with 6545 MB memory:  -> device: 0, name: NVIDIA GeForce GTX 1070, pci bus id: 0000:01:00.0, compute capability: 6.1\n"
     ]
    }
   ],
   "source": [
    "model = tf.keras.models.Sequential([\n",
    "    tf.keras.layers.Dense(units=16, activation=\"relu\", input_shape=(10000,)),\n",
    "    tf.keras.layers.Dense(units=16, activation=\"relu\"),\n",
    "    tf.keras.layers.Dense(units=1, activation=\"sigmoid\")\n",
    "])\n",
    "model.compile(optimizer=\"adam\", loss=\"binary_crossentropy\", metrics=[\"accuracy\"])"
   ]
  },
  {
   "cell_type": "markdown",
   "metadata": {},
   "source": [
    "#### Training"
   ]
  },
  {
   "cell_type": "code",
   "execution_count": 13,
   "metadata": {},
   "outputs": [
    {
     "name": "stderr",
     "output_type": "stream",
     "text": [
      "2022-10-09 23:22:32.113178: W tensorflow/core/framework/cpu_allocator_impl.cc:82] Allocation of 600000000 exceeds 10% of free system memory.\n",
      "2022-10-09 23:22:32.529726: W tensorflow/core/framework/cpu_allocator_impl.cc:82] Allocation of 600000000 exceeds 10% of free system memory.\n"
     ]
    },
    {
     "name": "stdout",
     "output_type": "stream",
     "text": [
      "Epoch 1/20\n",
      "30/30 [==============================] - 2s 39ms/step - loss: 0.5455 - accuracy: 0.7715 - val_loss: 0.3856 - val_accuracy: 0.8656\n",
      "Epoch 2/20\n",
      "30/30 [==============================] - 0s 16ms/step - loss: 0.2919 - accuracy: 0.9055 - val_loss: 0.2936 - val_accuracy: 0.8883\n",
      "Epoch 3/20\n",
      "30/30 [==============================] - 0s 16ms/step - loss: 0.1994 - accuracy: 0.9340 - val_loss: 0.2770 - val_accuracy: 0.8915\n",
      "Epoch 4/20\n",
      "30/30 [==============================] - 0s 16ms/step - loss: 0.1484 - accuracy: 0.9544 - val_loss: 0.2837 - val_accuracy: 0.8880\n",
      "Epoch 5/20\n",
      "30/30 [==============================] - 0s 17ms/step - loss: 0.1138 - accuracy: 0.9677 - val_loss: 0.2990 - val_accuracy: 0.8842\n",
      "Epoch 6/20\n",
      "30/30 [==============================] - 0s 16ms/step - loss: 0.0872 - accuracy: 0.9780 - val_loss: 0.3191 - val_accuracy: 0.8830\n",
      "Epoch 7/20\n",
      "30/30 [==============================] - 0s 16ms/step - loss: 0.0661 - accuracy: 0.9857 - val_loss: 0.3450 - val_accuracy: 0.8802\n",
      "Epoch 8/20\n",
      "30/30 [==============================] - 0s 16ms/step - loss: 0.0498 - accuracy: 0.9909 - val_loss: 0.3748 - val_accuracy: 0.8771\n",
      "Epoch 9/20\n",
      "30/30 [==============================] - 0s 17ms/step - loss: 0.0377 - accuracy: 0.9945 - val_loss: 0.4043 - val_accuracy: 0.8754\n",
      "Epoch 10/20\n",
      "30/30 [==============================] - 0s 16ms/step - loss: 0.0286 - accuracy: 0.9963 - val_loss: 0.4314 - val_accuracy: 0.8745\n",
      "Epoch 11/20\n",
      "30/30 [==============================] - 0s 17ms/step - loss: 0.0214 - accuracy: 0.9983 - val_loss: 0.4612 - val_accuracy: 0.8734\n",
      "Epoch 12/20\n",
      "30/30 [==============================] - 1s 17ms/step - loss: 0.0165 - accuracy: 0.9991 - val_loss: 0.4900 - val_accuracy: 0.8732\n",
      "Epoch 13/20\n",
      "30/30 [==============================] - 0s 16ms/step - loss: 0.0128 - accuracy: 0.9996 - val_loss: 0.5145 - val_accuracy: 0.8723\n",
      "Epoch 14/20\n",
      "30/30 [==============================] - 0s 16ms/step - loss: 0.0102 - accuracy: 0.9997 - val_loss: 0.5367 - val_accuracy: 0.8713\n",
      "Epoch 15/20\n",
      "30/30 [==============================] - 0s 17ms/step - loss: 0.0083 - accuracy: 0.9997 - val_loss: 0.5583 - val_accuracy: 0.8703\n",
      "Epoch 16/20\n",
      "30/30 [==============================] - 0s 17ms/step - loss: 0.0068 - accuracy: 0.9997 - val_loss: 0.5796 - val_accuracy: 0.8712\n",
      "Epoch 17/20\n",
      "30/30 [==============================] - 0s 17ms/step - loss: 0.0057 - accuracy: 0.9998 - val_loss: 0.5975 - val_accuracy: 0.8694\n",
      "Epoch 18/20\n",
      "30/30 [==============================] - 0s 17ms/step - loss: 0.0048 - accuracy: 0.9998 - val_loss: 0.6155 - val_accuracy: 0.8699\n",
      "Epoch 19/20\n",
      "30/30 [==============================] - 0s 16ms/step - loss: 0.0041 - accuracy: 0.9999 - val_loss: 0.6336 - val_accuracy: 0.8696\n",
      "Epoch 20/20\n",
      "30/30 [==============================] - 0s 15ms/step - loss: 0.0035 - accuracy: 0.9999 - val_loss: 0.6478 - val_accuracy: 0.8696\n"
     ]
    }
   ],
   "source": [
    "history = model.fit(train_x, train_y, epochs=20, batch_size=512, validation_split=.4)"
   ]
  },
  {
   "cell_type": "markdown",
   "metadata": {},
   "source": [
    "#### Evaluation"
   ]
  },
  {
   "cell_type": "code",
   "execution_count": 54,
   "metadata": {},
   "outputs": [
    {
     "name": "stderr",
     "output_type": "stream",
     "text": [
      "2022-10-10 00:05:08.862317: W tensorflow/core/framework/cpu_allocator_impl.cc:82] Allocation of 1000000000 exceeds 10% of free system memory.\n",
      "2022-10-10 00:05:09.656805: W tensorflow/core/framework/cpu_allocator_impl.cc:82] Allocation of 1000000000 exceeds 10% of free system memory.\n"
     ]
    },
    {
     "name": "stdout",
     "output_type": "stream",
     "text": [
      "782/782 [==============================] - 1s 2ms/step - loss: 0.7019 - accuracy: 0.8542\n"
     ]
    },
    {
     "data": {
      "text/plain": [
       "[0.7018916606903076, 0.8542400002479553]"
      ]
     },
     "execution_count": 54,
     "metadata": {},
     "output_type": "execute_result"
    }
   ],
   "source": [
    "model.evaluate(test_x, test_y)"
   ]
  },
  {
   "cell_type": "markdown",
   "metadata": {},
   "source": [
    "### Three Dense & Relu"
   ]
  },
  {
   "cell_type": "code",
   "execution_count": 55,
   "metadata": {},
   "outputs": [],
   "source": [
    "model3 = tf.keras.models.Sequential([\n",
    "    tf.keras.layers.Dense(units=16, activation=\"relu\", input_shape=(10000,)),\n",
    "    tf.keras.layers.Dense(units=16, activation=\"relu\"),\n",
    "    tf.keras.layers.Dense(units=16, activation=\"relu\"),\n",
    "    tf.keras.layers.Dense(units=1, activation=\"sigmoid\")\n",
    "])\n",
    "model3.compile(optimizer=\"adam\", loss=\"binary_crossentropy\", metrics=[\"accuracy\"])"
   ]
  },
  {
   "cell_type": "code",
   "execution_count": 56,
   "metadata": {},
   "outputs": [
    {
     "name": "stderr",
     "output_type": "stream",
     "text": [
      "2022-10-10 00:07:19.933072: W tensorflow/core/framework/cpu_allocator_impl.cc:82] Allocation of 600000000 exceeds 10% of free system memory.\n"
     ]
    },
    {
     "name": "stdout",
     "output_type": "stream",
     "text": [
      "Epoch 1/20\n",
      "30/30 [==============================] - 1s 38ms/step - loss: 0.5445 - accuracy: 0.7660 - val_loss: 0.3626 - val_accuracy: 0.8687\n",
      "Epoch 2/20\n",
      "30/30 [==============================] - 1s 18ms/step - loss: 0.2622 - accuracy: 0.9079 - val_loss: 0.2791 - val_accuracy: 0.8896\n",
      "Epoch 3/20\n",
      "30/30 [==============================] - 0s 17ms/step - loss: 0.1642 - accuracy: 0.9446 - val_loss: 0.2888 - val_accuracy: 0.8851\n",
      "Epoch 4/20\n",
      "30/30 [==============================] - 1s 20ms/step - loss: 0.1137 - accuracy: 0.9656 - val_loss: 0.3135 - val_accuracy: 0.8839\n",
      "Epoch 5/20\n",
      "30/30 [==============================] - 1s 17ms/step - loss: 0.0782 - accuracy: 0.9787 - val_loss: 0.3589 - val_accuracy: 0.8807\n",
      "Epoch 6/20\n",
      "30/30 [==============================] - 0s 17ms/step - loss: 0.0527 - accuracy: 0.9884 - val_loss: 0.4095 - val_accuracy: 0.8759\n",
      "Epoch 7/20\n",
      "30/30 [==============================] - 0s 17ms/step - loss: 0.0357 - accuracy: 0.9930 - val_loss: 0.4717 - val_accuracy: 0.8732\n",
      "Epoch 8/20\n",
      "30/30 [==============================] - 0s 17ms/step - loss: 0.0239 - accuracy: 0.9970 - val_loss: 0.5270 - val_accuracy: 0.8712\n",
      "Epoch 9/20\n",
      "30/30 [==============================] - 0s 16ms/step - loss: 0.0142 - accuracy: 0.9987 - val_loss: 0.5767 - val_accuracy: 0.8700\n",
      "Epoch 10/20\n",
      "30/30 [==============================] - 0s 17ms/step - loss: 0.0093 - accuracy: 0.9996 - val_loss: 0.6213 - val_accuracy: 0.8695\n",
      "Epoch 11/20\n",
      "30/30 [==============================] - 0s 17ms/step - loss: 0.0066 - accuracy: 0.9997 - val_loss: 0.6608 - val_accuracy: 0.8694\n",
      "Epoch 12/20\n",
      "30/30 [==============================] - 0s 17ms/step - loss: 0.0049 - accuracy: 0.9997 - val_loss: 0.6941 - val_accuracy: 0.8693\n",
      "Epoch 13/20\n",
      "30/30 [==============================] - 1s 18ms/step - loss: 0.0036 - accuracy: 0.9998 - val_loss: 0.7253 - val_accuracy: 0.8688\n",
      "Epoch 14/20\n",
      "30/30 [==============================] - 1s 18ms/step - loss: 0.0027 - accuracy: 0.9999 - val_loss: 0.7529 - val_accuracy: 0.8683\n",
      "Epoch 15/20\n",
      "30/30 [==============================] - 0s 16ms/step - loss: 0.0022 - accuracy: 0.9999 - val_loss: 0.7796 - val_accuracy: 0.8679\n",
      "Epoch 16/20\n",
      "30/30 [==============================] - 0s 17ms/step - loss: 0.0018 - accuracy: 1.0000 - val_loss: 0.8022 - val_accuracy: 0.8677\n",
      "Epoch 17/20\n",
      "30/30 [==============================] - 0s 17ms/step - loss: 0.0015 - accuracy: 1.0000 - val_loss: 0.8239 - val_accuracy: 0.8679\n",
      "Epoch 18/20\n",
      "30/30 [==============================] - 1s 17ms/step - loss: 0.0012 - accuracy: 1.0000 - val_loss: 0.8439 - val_accuracy: 0.8678\n",
      "Epoch 19/20\n",
      "30/30 [==============================] - 1s 19ms/step - loss: 0.0011 - accuracy: 1.0000 - val_loss: 0.8630 - val_accuracy: 0.8679\n",
      "Epoch 20/20\n",
      "30/30 [==============================] - 0s 15ms/step - loss: 9.2579e-04 - accuracy: 1.0000 - val_loss: 0.8812 - val_accuracy: 0.8680\n",
      "782/782 [==============================] - 1s 2ms/step - loss: 0.9543 - accuracy: 0.8508\n"
     ]
    },
    {
     "data": {
      "text/plain": [
       "[0.9542952179908752, 0.8507999777793884]"
      ]
     },
     "execution_count": 56,
     "metadata": {},
     "output_type": "execute_result"
    }
   ],
   "source": [
    "history3 = model3.fit(train_x, train_y, epochs=20, batch_size=512, validation_split=.4)\n",
    "model3.evaluate(test_x, test_y)"
   ]
  },
  {
   "cell_type": "markdown",
   "metadata": {},
   "source": [
    "### Units=64, 128, Four Dense"
   ]
  },
  {
   "cell_type": "code",
   "execution_count": 59,
   "metadata": {},
   "outputs": [
    {
     "name": "stdout",
     "output_type": "stream",
     "text": [
      "Epoch 1/20\n",
      "30/30 [==============================] - 2s 41ms/step - loss: 0.5132 - accuracy: 0.7467 - val_loss: 0.3081 - val_accuracy: 0.8771\n",
      "Epoch 2/20\n",
      "30/30 [==============================] - 0s 17ms/step - loss: 0.2117 - accuracy: 0.9227 - val_loss: 0.3064 - val_accuracy: 0.8849\n",
      "Epoch 3/20\n",
      "30/30 [==============================] - 0s 17ms/step - loss: 0.1132 - accuracy: 0.9627 - val_loss: 0.3761 - val_accuracy: 0.8784\n",
      "Epoch 4/20\n",
      "30/30 [==============================] - 0s 17ms/step - loss: 0.0617 - accuracy: 0.9827 - val_loss: 0.4855 - val_accuracy: 0.8732\n",
      "Epoch 5/20\n",
      "30/30 [==============================] - 1s 17ms/step - loss: 0.0352 - accuracy: 0.9917 - val_loss: 0.5806 - val_accuracy: 0.8716\n",
      "Epoch 6/20\n",
      "30/30 [==============================] - 1s 18ms/step - loss: 0.0186 - accuracy: 0.9961 - val_loss: 0.6945 - val_accuracy: 0.8699\n",
      "Epoch 7/20\n",
      "30/30 [==============================] - 0s 17ms/step - loss: 0.0102 - accuracy: 0.9984 - val_loss: 0.7567 - val_accuracy: 0.8674\n",
      "Epoch 8/20\n",
      "30/30 [==============================] - 0s 17ms/step - loss: 0.0063 - accuracy: 0.9990 - val_loss: 0.8440 - val_accuracy: 0.8660\n",
      "Epoch 9/20\n",
      "30/30 [==============================] - 0s 17ms/step - loss: 0.0039 - accuracy: 0.9994 - val_loss: 0.8788 - val_accuracy: 0.8664\n",
      "Epoch 10/20\n",
      "30/30 [==============================] - 1s 17ms/step - loss: 0.0021 - accuracy: 0.9997 - val_loss: 0.9434 - val_accuracy: 0.8652\n",
      "Epoch 11/20\n",
      "30/30 [==============================] - 1s 17ms/step - loss: 0.0012 - accuracy: 0.9999 - val_loss: 0.9922 - val_accuracy: 0.8665\n",
      "Epoch 12/20\n",
      "30/30 [==============================] - 0s 17ms/step - loss: 7.4120e-04 - accuracy: 0.9999 - val_loss: 1.0610 - val_accuracy: 0.8654\n",
      "Epoch 13/20\n",
      "30/30 [==============================] - 1s 17ms/step - loss: 3.2792e-04 - accuracy: 1.0000 - val_loss: 1.1006 - val_accuracy: 0.8648\n",
      "Epoch 14/20\n",
      "30/30 [==============================] - 0s 16ms/step - loss: 1.5496e-04 - accuracy: 1.0000 - val_loss: 1.1530 - val_accuracy: 0.8653\n",
      "Epoch 15/20\n",
      "30/30 [==============================] - 0s 17ms/step - loss: 1.0643e-04 - accuracy: 1.0000 - val_loss: 1.2096 - val_accuracy: 0.8653\n",
      "Epoch 16/20\n",
      "30/30 [==============================] - 0s 17ms/step - loss: 7.5844e-05 - accuracy: 1.0000 - val_loss: 1.2722 - val_accuracy: 0.8656\n",
      "Epoch 17/20\n",
      "30/30 [==============================] - 0s 17ms/step - loss: 5.5345e-05 - accuracy: 1.0000 - val_loss: 1.3287 - val_accuracy: 0.8652\n",
      "Epoch 18/20\n",
      "30/30 [==============================] - 1s 17ms/step - loss: 4.1842e-05 - accuracy: 1.0000 - val_loss: 1.3875 - val_accuracy: 0.8657\n",
      "Epoch 19/20\n",
      "30/30 [==============================] - 0s 17ms/step - loss: 3.2802e-05 - accuracy: 1.0000 - val_loss: 1.4347 - val_accuracy: 0.8654\n",
      "Epoch 20/20\n",
      "30/30 [==============================] - 0s 16ms/step - loss: 2.6891e-05 - accuracy: 1.0000 - val_loss: 1.4783 - val_accuracy: 0.8655\n",
      "782/782 [==============================] - 1s 2ms/step - loss: 1.5853 - accuracy: 0.8525\n"
     ]
    },
    {
     "data": {
      "text/plain": [
       "[1.5852999687194824, 0.8524799942970276]"
      ]
     },
     "execution_count": 59,
     "metadata": {},
     "output_type": "execute_result"
    }
   ],
   "source": [
    "model4 = tf.keras.models.Sequential([\n",
    "    tf.keras.layers.Dense(units=32, activation=\"relu\", input_shape=(10000,)),\n",
    "    tf.keras.layers.Dense(units=64, activation=\"relu\"),\n",
    "    tf.keras.layers.Dense(units=128, activation=\"relu\"),\n",
    "    tf.keras.layers.Dense(units=64, activation=\"relu\"),\n",
    "    tf.keras.layers.Dense(units=32, activation=\"relu\"),\n",
    "    tf.keras.layers.Dense(units=1, activation=\"sigmoid\")\n",
    "])\n",
    "model4.compile(optimizer=\"adam\", loss=\"binary_crossentropy\", metrics=[\"accuracy\"])\n",
    "history4 = model4.fit(train_x, train_y, epochs=20, batch_size=512, validation_split=.4)\n",
    "model4.evaluate(test_x, test_y)"
   ]
  },
  {
   "cell_type": "markdown",
   "metadata": {},
   "source": [
    "### Embedding"
   ]
  },
  {
   "cell_type": "code",
   "execution_count": 13,
   "metadata": {},
   "outputs": [],
   "source": [
    "train_ex = tf.keras.preprocessing.sequence.pad_sequences(train_ds[0], 800)  # padding=\"pre\" - default\n",
    "test_ex = tf.keras.preprocessing.sequence.pad_sequences(test_ds[0], 800)\n",
    "train_ey, test_ey = np.expand_dims(train_ds[1], axis=-1), np.expand_dims(test_ds[1], axis=-1)"
   ]
  },
  {
   "cell_type": "code",
   "execution_count": 16,
   "metadata": {},
   "outputs": [],
   "source": [
    "model = tf.keras.models.Sequential([\n",
    "    tf.keras.layers.Embedding(input_dim=1000, output_dim=32),\n",
    "    tf.keras.layers.Dense(units=64, activation=\"relu\"),\n",
    "    tf.keras.layers.Dense(units=32, activation=\"relu\"),\n",
    "    tf.keras.layers.Dense(units=1, activation=\"sigmoid\")\n",
    "])\n",
    "model.compile(optimizer=\"adam\", loss=\"binary_crossentropy\", metrics=[\"accuracy\"])"
   ]
  },
  {
   "cell_type": "code",
   "execution_count": 17,
   "metadata": {},
   "outputs": [
    {
     "name": "stdout",
     "output_type": "stream",
     "text": [
      "Epoch 1/50\n",
      "40/40 [==============================] - 2s 32ms/step - loss: 0.6929 - accuracy: 0.5092 - val_loss: 0.6936 - val_accuracy: 0.5004\n",
      "Epoch 2/50\n",
      "40/40 [==============================] - 1s 29ms/step - loss: 0.6923 - accuracy: 0.5100 - val_loss: 0.6917 - val_accuracy: 0.5134\n",
      "Epoch 3/50\n",
      "40/40 [==============================] - 1s 28ms/step - loss: 0.6913 - accuracy: 0.5096 - val_loss: 0.6912 - val_accuracy: 0.5138\n",
      "Epoch 4/50\n",
      "40/40 [==============================] - 1s 29ms/step - loss: 0.6910 - accuracy: 0.5083 - val_loss: 0.6910 - val_accuracy: 0.5140\n",
      "Epoch 5/50\n",
      "40/40 [==============================] - 1s 29ms/step - loss: 0.6910 - accuracy: 0.5096 - val_loss: 0.6910 - val_accuracy: 0.5142\n",
      "Epoch 6/50\n",
      "40/40 [==============================] - 1s 28ms/step - loss: 0.6910 - accuracy: 0.5106 - val_loss: 0.6910 - val_accuracy: 0.5141\n",
      "Epoch 7/50\n",
      "40/40 [==============================] - 1s 28ms/step - loss: 0.6909 - accuracy: 0.5136 - val_loss: 0.6910 - val_accuracy: 0.5139\n",
      "Epoch 8/50\n",
      "40/40 [==============================] - 1s 29ms/step - loss: 0.6910 - accuracy: 0.5135 - val_loss: 0.6910 - val_accuracy: 0.5139\n",
      "Epoch 9/50\n",
      "40/40 [==============================] - 1s 29ms/step - loss: 0.6909 - accuracy: 0.5135 - val_loss: 0.6911 - val_accuracy: 0.5137\n",
      "Epoch 10/50\n",
      "40/40 [==============================] - 1s 28ms/step - loss: 0.6909 - accuracy: 0.5078 - val_loss: 0.6911 - val_accuracy: 0.5137\n",
      "Epoch 11/50\n",
      "40/40 [==============================] - 1s 29ms/step - loss: 0.6909 - accuracy: 0.5099 - val_loss: 0.6910 - val_accuracy: 0.5138\n",
      "Epoch 12/50\n",
      "40/40 [==============================] - 1s 29ms/step - loss: 0.6909 - accuracy: 0.5135 - val_loss: 0.6910 - val_accuracy: 0.5139\n",
      "Epoch 13/50\n",
      "40/40 [==============================] - 1s 29ms/step - loss: 0.6909 - accuracy: 0.5136 - val_loss: 0.6911 - val_accuracy: 0.5137\n",
      "Epoch 14/50\n",
      "40/40 [==============================] - 1s 29ms/step - loss: 0.6909 - accuracy: 0.5136 - val_loss: 0.6910 - val_accuracy: 0.5141\n",
      "Epoch 15/50\n",
      "40/40 [==============================] - 1s 29ms/step - loss: 0.6909 - accuracy: 0.5091 - val_loss: 0.6910 - val_accuracy: 0.5141\n",
      "Epoch 16/50\n",
      "40/40 [==============================] - 1s 28ms/step - loss: 0.6909 - accuracy: 0.5100 - val_loss: 0.6911 - val_accuracy: 0.5138\n",
      "Epoch 17/50\n",
      "40/40 [==============================] - 1s 29ms/step - loss: 0.6909 - accuracy: 0.5121 - val_loss: 0.6909 - val_accuracy: 0.5141\n",
      "Epoch 18/50\n",
      "40/40 [==============================] - 1s 29ms/step - loss: 0.6909 - accuracy: 0.5136 - val_loss: 0.6911 - val_accuracy: 0.5136\n",
      "Epoch 19/50\n",
      "40/40 [==============================] - 1s 28ms/step - loss: 0.6909 - accuracy: 0.5136 - val_loss: 0.6910 - val_accuracy: 0.5138\n",
      "Epoch 20/50\n",
      "40/40 [==============================] - 1s 28ms/step - loss: 0.6909 - accuracy: 0.5136 - val_loss: 0.6911 - val_accuracy: 0.5137\n",
      "Epoch 21/50\n",
      "40/40 [==============================] - 1s 29ms/step - loss: 0.6909 - accuracy: 0.5112 - val_loss: 0.6909 - val_accuracy: 0.5141\n",
      "Epoch 22/50\n",
      "40/40 [==============================] - 1s 29ms/step - loss: 0.6910 - accuracy: 0.5136 - val_loss: 0.6910 - val_accuracy: 0.5142\n",
      "Epoch 23/50\n",
      "40/40 [==============================] - 1s 29ms/step - loss: 0.6909 - accuracy: 0.5136 - val_loss: 0.6910 - val_accuracy: 0.5142\n",
      "Epoch 24/50\n",
      "40/40 [==============================] - 1s 28ms/step - loss: 0.6910 - accuracy: 0.5135 - val_loss: 0.6911 - val_accuracy: 0.5139\n",
      "Epoch 25/50\n",
      "40/40 [==============================] - 1s 28ms/step - loss: 0.6909 - accuracy: 0.5136 - val_loss: 0.6910 - val_accuracy: 0.5141\n",
      "Epoch 26/50\n",
      "40/40 [==============================] - 1s 28ms/step - loss: 0.6909 - accuracy: 0.5136 - val_loss: 0.6911 - val_accuracy: 0.5139\n",
      "Epoch 27/50\n",
      "40/40 [==============================] - 1s 28ms/step - loss: 0.6909 - accuracy: 0.5112 - val_loss: 0.6910 - val_accuracy: 0.5140\n",
      "Epoch 28/50\n",
      "40/40 [==============================] - 1s 29ms/step - loss: 0.6909 - accuracy: 0.5102 - val_loss: 0.6910 - val_accuracy: 0.5141\n",
      "Epoch 29/50\n",
      "40/40 [==============================] - 1s 28ms/step - loss: 0.6909 - accuracy: 0.5136 - val_loss: 0.6910 - val_accuracy: 0.5142\n",
      "Epoch 30/50\n",
      "40/40 [==============================] - 1s 28ms/step - loss: 0.6909 - accuracy: 0.5136 - val_loss: 0.6910 - val_accuracy: 0.5139\n",
      "Epoch 31/50\n",
      "40/40 [==============================] - 1s 29ms/step - loss: 0.6910 - accuracy: 0.5087 - val_loss: 0.6910 - val_accuracy: 0.5142\n",
      "Epoch 32/50\n",
      "40/40 [==============================] - 1s 29ms/step - loss: 0.6909 - accuracy: 0.5076 - val_loss: 0.6912 - val_accuracy: 0.5077\n",
      "Epoch 33/50\n",
      "40/40 [==============================] - 1s 29ms/step - loss: 0.6909 - accuracy: 0.5135 - val_loss: 0.6911 - val_accuracy: 0.5139\n",
      "Epoch 34/50\n",
      "40/40 [==============================] - 1s 29ms/step - loss: 0.6909 - accuracy: 0.5132 - val_loss: 0.6911 - val_accuracy: 0.5077\n",
      "Epoch 35/50\n",
      "40/40 [==============================] - 1s 29ms/step - loss: 0.6909 - accuracy: 0.5079 - val_loss: 0.6911 - val_accuracy: 0.5137\n",
      "Epoch 36/50\n",
      "40/40 [==============================] - 1s 29ms/step - loss: 0.6909 - accuracy: 0.5136 - val_loss: 0.6911 - val_accuracy: 0.5139\n",
      "Epoch 37/50\n",
      "40/40 [==============================] - 1s 29ms/step - loss: 0.6909 - accuracy: 0.5081 - val_loss: 0.6909 - val_accuracy: 0.5142\n",
      "Epoch 38/50\n",
      "40/40 [==============================] - 1s 29ms/step - loss: 0.6909 - accuracy: 0.5136 - val_loss: 0.6910 - val_accuracy: 0.5141\n",
      "Epoch 39/50\n",
      "40/40 [==============================] - 1s 29ms/step - loss: 0.6909 - accuracy: 0.5136 - val_loss: 0.6910 - val_accuracy: 0.5139\n",
      "Epoch 40/50\n",
      "40/40 [==============================] - 1s 29ms/step - loss: 0.6909 - accuracy: 0.5136 - val_loss: 0.6911 - val_accuracy: 0.5138\n",
      "Epoch 41/50\n",
      "40/40 [==============================] - 1s 29ms/step - loss: 0.6910 - accuracy: 0.5108 - val_loss: 0.6909 - val_accuracy: 0.5141\n",
      "Epoch 42/50\n",
      "40/40 [==============================] - 1s 28ms/step - loss: 0.6909 - accuracy: 0.5136 - val_loss: 0.6910 - val_accuracy: 0.5138\n",
      "Epoch 43/50\n",
      "40/40 [==============================] - 1s 29ms/step - loss: 0.6909 - accuracy: 0.5112 - val_loss: 0.6911 - val_accuracy: 0.5136\n",
      "Epoch 44/50\n",
      "40/40 [==============================] - 1s 29ms/step - loss: 0.6909 - accuracy: 0.5136 - val_loss: 0.6911 - val_accuracy: 0.5137\n",
      "Epoch 45/50\n",
      "40/40 [==============================] - 1s 29ms/step - loss: 0.6909 - accuracy: 0.5136 - val_loss: 0.6912 - val_accuracy: 0.5136\n",
      "Epoch 46/50\n",
      "40/40 [==============================] - 1s 29ms/step - loss: 0.6909 - accuracy: 0.5084 - val_loss: 0.6912 - val_accuracy: 0.5075\n",
      "Epoch 47/50\n",
      "40/40 [==============================] - 1s 29ms/step - loss: 0.6909 - accuracy: 0.5112 - val_loss: 0.6910 - val_accuracy: 0.5137\n",
      "Epoch 48/50\n",
      "40/40 [==============================] - 1s 29ms/step - loss: 0.6909 - accuracy: 0.5136 - val_loss: 0.6910 - val_accuracy: 0.5142\n",
      "Epoch 49/50\n",
      "40/40 [==============================] - 1s 29ms/step - loss: 0.6909 - accuracy: 0.5091 - val_loss: 0.6911 - val_accuracy: 0.5077\n",
      "Epoch 50/50\n",
      "40/40 [==============================] - 1s 29ms/step - loss: 0.6909 - accuracy: 0.5111 - val_loss: 0.6911 - val_accuracy: 0.5139\n"
     ]
    }
   ],
   "source": [
    "history = model.fit(train_ex, train_ey, epochs=50, batch_size=512, validation_split=.2)"
   ]
  },
  {
   "cell_type": "markdown",
   "metadata": {},
   "source": [
    "## Display Results"
   ]
  },
  {
   "cell_type": "markdown",
   "metadata": {},
   "source": [
    "### Plot Training and Validation Loss/Accuracy Graphs"
   ]
  },
  {
   "cell_type": "code",
   "execution_count": 52,
   "metadata": {},
   "outputs": [],
   "source": [
    "def display_history(history, model_name):\n",
    "    history_dict = history.history\n",
    "    loss = history_dict[\"loss\"]\n",
    "    val_loss = history_dict[\"val_loss\"]\n",
    "    accuracy = history_dict[\"accuracy\"]\n",
    "    val_accuracy = history_dict[\"val_accuracy\"]\n",
    "    epochs = range(1, len(loss)+1)\n",
    "\n",
    "    # fig, axs = plt.subplots(1, 2, figsize=(10,4))\n",
    "    fig, axs = plt.subplots(1, 2, figsize=(10,4), gridspec_kw={\"width_ratios\": [2,1]})\n",
    "    fig.suptitle(model_name, size=25)\n",
    "    fig.subplots_adjust(top=.75)\n",
    "    axs[0].plot(epochs, loss, \"b\", label=\"Training\")\n",
    "    axs[0].plot(epochs, val_loss, \"r\", label=\"Validation\")\n",
    "    axs[0].set_title(\"Loss\")\n",
    "    axs[0].set_xlabel(\"Epochs\")\n",
    "    axs[0].set_ylabel(\"Loss\")\n",
    "    axs[0].legend()\n",
    "\n",
    "    axs[1].plot(epochs, accuracy, \"b\", label=\"Training\")\n",
    "    axs[1].plot(epochs, val_accuracy, \"r\", label=\"Validation\")\n",
    "    axs[1].set_title(\"Accuracy\")\n",
    "    axs[1].set_xlabel(\"Epochs\")\n",
    "    axs[1].set_ylabel(\"Accuracy\")\n",
    "    axs[1].legend()\n",
    "\n",
    "    plt.show()"
   ]
  },
  {
   "cell_type": "code",
   "execution_count": 53,
   "metadata": {},
   "outputs": [
    {
     "data": {
      "image/png": "[encoded data removed]",
      "text/plain": [
       "<Figure size 1000x400 with 2 Axes>"
      ]
     },
     "metadata": {},
     "output_type": "display_data"
    }
   ],
   "source": [
    "display_history(history, \"User Define OHE, Two Dense & Relu\")"
   ]
  },
  {
   "cell_type": "code",
   "execution_count": 57,
   "metadata": {},
   "outputs": [
    {
     "data": {
      "image/png": "[encoded data removed]",
      "text/plain": [
       "<Figure size 1000x400 with 2 Axes>"
      ]
     },
     "metadata": {},
     "output_type": "display_data"
    }
   ],
   "source": [
    "display_history(history3, \"Three Dense\")"
   ]
  },
  {
   "cell_type": "code",
   "execution_count": null,
   "metadata": {},
   "outputs": [],
   "source": []
  }
 ],
 "metadata": {
  "kernelspec": {
   "display_name": "Python 3.9.13 ('tf27p39')",
   "language": "python",
   "name": "python3"
  },
  "language_info": {
   "codemirror_mode": {
    "name": "ipython",
    "version": 3
   },
   "file_extension": ".py",
   "mimetype": "text/x-python",
   "name": "python",
   "nbconvert_exporter": "python",
   "pygments_lexer": "ipython3",
   "version": "3.9.13"
  },
  "orig_nbformat": 4,
  "vscode": {
   "interpreter": {
    "hash": "adc6a6ffc7682364230b93b75ca0d1bdd8db84ff27ffd4d90b08b9e56198ae80"
   }
  }
 },
 "nbformat": 4,
 "nbformat_minor": 2
}
