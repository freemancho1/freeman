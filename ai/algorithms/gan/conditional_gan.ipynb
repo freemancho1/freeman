{
 "cells": [
  {
   "cell_type": "markdown",
   "metadata": {},
   "source": [
    "# Conditional GAN\n",
    "\n",
    "##### GAN vs cGAN\n",
    "![](https://nooverfit.com/wp/wp-content/uploads/2017/10/Screenshot-from-2017-10-07-120039.png)"
   ]
  },
  {
   "cell_type": "markdown",
   "metadata": {},
   "source": [
    "## Preparation"
   ]
  },
  {
   "cell_type": "markdown",
   "metadata": {},
   "source": [
    "### Load the Library"
   ]
  },
  {
   "cell_type": "code",
   "execution_count": 1,
   "metadata": {},
   "outputs": [
    {
     "data": {
      "text/plain": [
       "'2.7.4'"
      ]
     },
     "execution_count": 1,
     "metadata": {},
     "output_type": "execute_result"
    }
   ],
   "source": [
    "import tensorflow as tf\n",
    "import numpy as np\n",
    "import matplotlib as pyplot\n",
    "\n",
    "from datetime import datetime\n",
    "\n",
    "tf.__version__"
   ]
  },
  {
   "cell_type": "markdown",
   "metadata": {},
   "source": [
    "### Prepare Training Data"
   ]
  },
  {
   "cell_type": "code",
   "execution_count": 2,
   "metadata": {},
   "outputs": [
    {
     "name": "stderr",
     "output_type": "stream",
     "text": [
      "2022-10-07 17:09:41.187998: I tensorflow/core/platform/cpu_feature_guard.cc:151] This TensorFlow binary is optimized with oneAPI Deep Neural Network Library (oneDNN) to use the following CPU instructions in performance-critical operations:  AVX2 AVX512F FMA\n",
      "To enable them in other operations, rebuild TensorFlow with the appropriate compiler flags.\n",
      "2022-10-07 17:09:43.028036: I tensorflow/core/common_runtime/gpu/gpu_device.cc:1525] Created device /job:localhost/replica:0/task:0/device:GPU:0 with 22836 MB memory:  -> device: 0, name: NVIDIA TITAN RTX, pci bus id: 0000:5e:00.0, compute capability: 7.5\n",
      "2022-10-07 17:09:43.030992: I tensorflow/core/common_runtime/gpu/gpu_device.cc:1525] Created device /job:localhost/replica:0/task:0/device:GPU:1 with 22230 MB memory:  -> device: 1, name: NVIDIA TITAN RTX, pci bus id: 0000:af:00.0, compute capability: 7.5\n"
     ]
    }
   ],
   "source": [
    "# Labels are needed to add conditions.\n",
    "(train_x, train_y), (_, _) = tf.keras.datasets.mnist.load_data()\n",
    "\n",
    "# Preprocessing\n",
    "# Normalization: (0~255) -> (-1~1), Expand dims: 3(None, ?, ?) -> 4(None, ?, ?, 1)\n",
    "train_x = train_x / 127.5 - 1\n",
    "train_x = tf.expand_dims(train_x, axis=-1)"
   ]
  },
  {
   "cell_type": "markdown",
   "metadata": {},
   "source": [
    "### Declare a Global Variables"
   ]
  },
  {
   "cell_type": "code",
   "execution_count": 3,
   "metadata": {},
   "outputs": [],
   "source": [
    "INPUT_SHAPE = train_x.shape \n",
    "\n",
    "DATA_SHAPE = INPUT_SHAPE[1:]\n",
    "DATA_ROWS = INPUT_SHAPE[1]\n",
    "DATA_COLS = INPUT_SHAPE[2]\n",
    "DATA_CHANNELS = INPUT_SHAPE[3]\n",
    "DATA_SIZE = np.prod(DATA_SHAPE) # DATA_SHAPE[0]*[1]*[2]\n",
    "\n",
    "LATENT_Z_DIMS = 100\n",
    "NUM_CLASSES = 10\n",
    "\n",
    "EPOCHS = 10000\n",
    "BATCH_SIZE = 256\n",
    "NUM_DISPLAY_LOG = 20\n",
    "EPOCH_DISPLAY_LOG = EPOCHS // NUM_DISPLAY_LOG\n",
    "\n",
    "REAL_LABELS, FAKE_LABELS = np.ones((BATCH_SIZE, 1)), np.zeros((BATCH_SIZE, 1))"
   ]
  },
  {
   "cell_type": "markdown",
   "metadata": {},
   "source": [
    "## Define Models"
   ]
  },
  {
   "cell_type": "markdown",
   "metadata": {},
   "source": [
    "### Generative Model"
   ]
  },
  {
   "cell_type": "code",
   "execution_count": 7,
   "metadata": {},
   "outputs": [],
   "source": [
    "def build_generator():\n",
    "    model = tf.keras.models.Sequential([\n",
    "        # LATENT_Z_DIMS -> units(=7*7*256), 7 -> 28\n",
    "        tf.keras.layers.Dense(units=7*7*256, input_dim=LATENT_Z_DIMS),\n",
    "        tf.keras.layers.Reshape((7,7,256)),\n",
    "        \n",
    "        # (7,7,256) -> (14,14,128): strides = (2,2)\n",
    "        tf.keras.layers.Conv2DTranspose(filters=128, kernel_size=(3,3), strides=(2,2), padding=\"same\"),\n",
    "        tf.keras.layers.BatchNormalization(),\n",
    "        tf.keras.layers.LeakyReLU(alpha=0.01),\n",
    "        \n",
    "        # (14,14,128) -> (28,28,1)\n",
    "        tf.keras.layers.Conv2DTranspose(filters=1, kernel_size=(3,3), strides=(2,2), padding=\"same\"),\n",
    "        tf.keras.layers.Activation(\"tanh\")\n",
    "    ])\n",
    "    return model"
   ]
  },
  {
   "cell_type": "markdown",
   "metadata": {},
   "source": [
    "### Generative Model with Conditions"
   ]
  },
  {
   "cell_type": "code",
   "execution_count": 12,
   "metadata": {},
   "outputs": [],
   "source": [
    "def build_cgan_generator():\n",
    "    # Noise vector: (None, LATENT_Z_DIMS)\n",
    "    noise_vec = tf.keras.layers.Input(shape=(LATENT_Z_DIMS))\n",
    "    # Conditional labels: Int 0~9(None, 1)\n",
    "    condition_labels = tf.keras.layers.Input(shape=(1,), dtype=\"int32\")\n",
    "    # (None, 1) -> (None, 1, LATENT_Z_DIMS): value is int 0 to 9\n",
    "    embedding_labels = tf.keras.layers.Embedding(\n",
    "        input_dim=NUM_CLASSES, output_dim=LATENT_Z_DIMS, input_length=1\n",
    "    )(condition_labels)\n",
    "    # (None, 1, LATENT_Z_DIMS) -> (None, LATENT_Z_DIMS)\n",
    "    embedding_labels = tf.keras.layers.Flatten()(embedding_labels)\n",
    "    # Noise vector with conditions\n",
    "    latent_data = tf.keras.layers.Multiply()([noise_vec, embedding_labels])\n",
    "    generator = build_generator()\n",
    "    gen_images_with_conditions = generator(latent_data)\n",
    "    \n",
    "    return tf.keras.models.Model(input=[noise_vec, condition_labels], \n",
    "                                 output=gen_images_with_conditions)"
   ]
  },
  {
   "cell_type": "markdown",
   "metadata": {},
   "source": [
    "### Discriminative Model"
   ]
  },
  {
   "cell_type": "code",
   "execution_count": 13,
   "metadata": {},
   "outputs": [],
   "source": [
    "def build_discriminator():\n",
    "    model = tf.keras.models.Sequential([\n",
    "        # Receive data(28,28,2) = condition information added in the channel\n",
    "        # to (14,14,64)\n",
    "        # Convolution #1\n",
    "        tf.keras.layers.Conv2D(filters=64, kernel_size=(3,3), strides=(2,2), padding=\"same\",\n",
    "                               input_shape=(DATA_ROWS, DATA_COLS, DATA_CHANNELS+1)),\n",
    "        tf.keras.layers.LeakyReLU(alpha=0.01),\n",
    "        \n",
    "        # (14,14,64) -> (7,7,128)\n",
    "        # Convolution #2\n",
    "        tf.keras.layers.Conv2D(filters=128, kernel_size=(3,3), strides=(2,2), padding=\"same\"),\n",
    "        tf.keras.layers.LeakyReLU(alpha=0.01),\n",
    "        \n",
    "        # (7,7,128) -> (3,3,256)\n",
    "        # Convolution #3\n",
    "        tf.keras.layers.Conv2D(filters=256, kernel_size=(3,3), strides=(2,2), padding=\"same\"),\n",
    "        tf.keras.layers.LeakyReLU(alpha=0.01),\n",
    "        \n",
    "        tf.keras.layers.Flatten(),\n",
    "        \n",
    "        # (3*3*256) -> (1)\n",
    "        # Full-Connected Layer\n",
    "        tf.keras.layers.Dense(units=1, activation=\"sigmoid\")\n",
    "    ])\n",
    "    return model"
   ]
  },
  {
   "cell_type": "code",
   "execution_count": null,
   "metadata": {},
   "outputs": [],
   "source": []
  }
 ],
 "metadata": {
  "kernelspec": {
   "display_name": "Python 3.9.13 ('tf27p39')",
   "language": "python",
   "name": "python3"
  },
  "language_info": {
   "codemirror_mode": {
    "name": "ipython",
    "version": 3
   },
   "file_extension": ".py",
   "mimetype": "text/x-python",
   "name": "python",
   "nbconvert_exporter": "python",
   "pygments_lexer": "ipython3",
   "version": "3.9.13"
  },
  "orig_nbformat": 4,
  "vscode": {
   "interpreter": {
    "hash": "adc6a6ffc7682364230b93b75ca0d1bdd8db84ff27ffd4d90b08b9e56198ae80"
   }
  }
 },
 "nbformat": 4,
 "nbformat_minor": 2
}
