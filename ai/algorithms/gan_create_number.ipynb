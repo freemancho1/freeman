{
 "cells": [
  {
   "cell_type": "code",
   "execution_count": 1,
   "id": "1af5cc9c",
   "metadata": {},
   "outputs": [],
   "source": [
    "from freeman.ai.algorithms.gan_create_number import NumberGenerator"
   ]
  },
  {
   "cell_type": "code",
   "execution_count": null,
   "id": "3396b99c",
   "metadata": {},
   "outputs": [
    {
     "name": "stdout",
     "output_type": "stream",
     "text": [
      "훈련 시작: 2022-10-20 10:46:25.661752\n",
      "숫자 0 훈련\n",
      "훈련시작: 2022-10-20 10:46:25.683356\n",
      "데이터: Shape=(5923, 28, 28, 1), Epochs=20000, BatchSize=128\n",
      "  4000( 1/5), [D loss: 0.238777, accuracy: 0.929688], [G loss: 0.238777], Time[Curr: 0:06:15.783656, Total: 0:06:17.548141, ETA: 2022-10-20 11:17:46.366218]\n",
      "  8000( 2/5), [D loss: 0.453781, accuracy: 0.812500], [G loss: 0.453781], Time[Curr: 0:06:15.030812, Total: 0:12:32.578953, ETA: 2022-10-20 11:17:43.354809]\n",
      " 12000( 3/5), [D loss: 0.540791, accuracy: 0.738281], [G loss: 0.540791], Time[Curr: 0:06:13.610442, Total: 0:18:46.189395, ETA: 2022-10-20 11:17:39.093767]\n",
      " 16000( 4/5), [D loss: 0.340236, accuracy: 0.843750], [G loss: 0.340236], Time[Curr: 0:06:14.621623, Total: 0:25:00.811018, ETA: 2022-10-20 11:17:41.116092]\n",
      " 20000( 5/5), [D loss: 0.751817, accuracy: 0.644531], [G loss: 0.751817], Time[Curr: 0:06:15.339114, Total: 0:31:16.150132, ETA: 2022-10-20 11:17:41.833619]\n",
      "훈련 종료 - Time: 2022-10-20 11:17:41.834150, 전체 소요시간: 0:31:16.150794\n",
      "WARNING:tensorflow:Compiled the loaded model, but the compiled metrics have yet to be built. `model.compile_metrics` will be empty until you train or evaluate the model.\n",
      "INFO:tensorflow:Assets written to: ram://7057326f-eb43-4fff-8058-373497195af1/assets\n",
      "숫자 1 훈련\n",
      "훈련시작: 2022-10-20 11:17:43.020673\n",
      "데이터: Shape=(6742, 28, 28, 1), Epochs=20000, BatchSize=128\n",
      "  4000( 1/5), [D loss: 1.688734, accuracy: 0.445312], [G loss: 1.688734], Time[Curr: 0:06:12.790570, Total: 0:06:12.854932, ETA: 2022-10-20 11:48:47.037970]\n",
      "  8000( 2/5), [D loss: 0.499559, accuracy: 0.765625], [G loss: 0.499559], Time[Curr: 0:06:14.175401, Total: 0:12:27.030333, ETA: 2022-10-20 11:48:52.577318]\n",
      " 12000( 3/5), [D loss: 0.671164, accuracy: 0.761719], [G loss: 0.671164], Time[Curr: 0:06:14.521997, Total: 0:18:41.552330, ETA: 2022-10-20 11:48:53.617072]\n",
      " 16000( 4/5), [D loss: 0.499760, accuracy: 0.789062], [G loss: 0.499760], Time[Curr: 0:06:18.320783, Total: 0:24:59.873113, ETA: 2022-10-20 11:49:01.214672]\n",
      " 20000( 5/5), [D loss: 1.152453, accuracy: 0.609375], [G loss: 1.152453], Time[Curr: 0:06:16.389030, Total: 0:31:16.262143, ETA: 2022-10-20 11:48:59.282906]\n",
      "훈련 종료 - Time: 2022-10-20 11:48:59.283305, 전체 소요시간: 0:31:16.262632\n",
      "WARNING:tensorflow:Compiled the loaded model, but the compiled metrics have yet to be built. `model.compile_metrics` will be empty until you train or evaluate the model.\n",
      "INFO:tensorflow:Assets written to: ram://84a68a95-5305-40be-8204-3d7a1f61ac59/assets\n",
      "숫자 2 훈련\n",
      "훈련시작: 2022-10-20 11:49:00.373081\n",
      "데이터: Shape=(5958, 28, 28, 1), Epochs=20000, BatchSize=128\n",
      "  4000( 1/5), [D loss: 2.834815, accuracy: 0.265625], [G loss: 2.834815], Time[Curr: 0:06:14.569699, Total: 0:06:14.632069, ETA: 2022-10-20 12:20:13.284042]\n",
      "  8000( 2/5), [D loss: 0.905849, accuracy: 0.632812], [G loss: 0.905849], Time[Curr: 0:06:14.918892, Total: 0:12:29.550961, ETA: 2022-10-20 12:20:14.680878]\n",
      " 12000( 3/5), [D loss: 0.269857, accuracy: 0.910156], [G loss: 0.269857], Time[Curr: 0:06:16.242554, Total: 0:18:45.793515, ETA: 2022-10-20 12:20:18.651869]\n",
      " 16000( 4/5), [D loss: 0.837919, accuracy: 0.617188], [G loss: 0.837919], Time[Curr: 0:06:15.105327, Total: 0:25:00.898842, ETA: 2022-10-20 12:20:16.377415]\n",
      " 20000( 5/5), [D loss: 0.727767, accuracy: 0.667969], [G loss: 0.727767], Time[Curr: 0:06:16.315546, Total: 0:31:17.214388, ETA: 2022-10-20 12:20:17.587553]\n",
      "훈련 종료 - Time: 2022-10-20 12:20:17.587957, 전체 소요시간: 0:31:17.214876\n",
      "WARNING:tensorflow:Compiled the loaded model, but the compiled metrics have yet to be built. `model.compile_metrics` will be empty until you train or evaluate the model.\n",
      "INFO:tensorflow:Assets written to: ram://9d3fddca-5523-4fc0-8378-6bcb0b437af9/assets\n",
      "숫자 3 훈련\n",
      "훈련시작: 2022-10-20 12:20:18.396830\n",
      "데이터: Shape=(6131, 28, 28, 1), Epochs=20000, BatchSize=128\n",
      "  4000( 1/5), [D loss: 0.432271, accuracy: 0.816406], [G loss: 0.432271], Time[Curr: 0:06:17.534244, Total: 0:06:17.598711, ETA: 2022-10-20 12:51:46.132606]\n",
      "  8000( 2/5), [D loss: 0.689733, accuracy: 0.660156], [G loss: 0.689733], Time[Curr: 0:06:19.002212, Total: 0:12:36.600923, ETA: 2022-10-20 12:51:52.004483]\n",
      " 12000( 3/5), [D loss: 0.387134, accuracy: 0.867188], [G loss: 0.387134], Time[Curr: 0:06:19.654463, Total: 0:18:56.255386, ETA: 2022-10-20 12:51:53.961230]\n",
      " 16000( 4/5), [D loss: 0.584829, accuracy: 0.695312], [G loss: 0.584829], Time[Curr: 0:06:18.633306, Total: 0:25:14.888692, ETA: 2022-10-20 12:51:51.919016]\n",
      " 20000( 5/5), [D loss: 0.786395, accuracy: 0.496094], [G loss: 0.786395], Time[Curr: 0:06:19.785360, Total: 0:31:34.674052, ETA: 2022-10-20 12:51:53.070983]\n",
      "훈련 종료 - Time: 2022-10-20 12:51:53.071425, 전체 소요시간: 0:31:34.674595\n",
      "WARNING:tensorflow:Compiled the loaded model, but the compiled metrics have yet to be built. `model.compile_metrics` will be empty until you train or evaluate the model.\n",
      "INFO:tensorflow:Assets written to: ram://f81cef9b-380a-40ec-aebd-8a1da311924c/assets\n",
      "숫자 4 훈련\n",
      "훈련시작: 2022-10-20 12:51:53.889247\n",
      "데이터: Shape=(5842, 28, 28, 1), Epochs=20000, BatchSize=128\n",
      "  4000( 1/5), [D loss: 1.708492, accuracy: 0.414062], [G loss: 1.708492], Time[Curr: 0:06:19.242078, Total: 0:06:19.305642, ETA: 2022-10-20 13:23:30.163299]\n",
      "  8000( 2/5), [D loss: 0.555061, accuracy: 0.746094], [G loss: 0.555061], Time[Curr: 0:06:19.110573, Total: 0:12:38.416215, ETA: 2022-10-20 13:23:29.637356]\n",
      " 12000( 3/5), [D loss: 1.118740, accuracy: 0.335938], [G loss: 1.118740], Time[Curr: 0:06:17.344806, Total: 0:18:55.761021, ETA: 2022-10-20 13:23:24.339972]\n",
      " 16000( 4/5), [D loss: 0.538723, accuracy: 0.742188], [G loss: 0.538723], Time[Curr: 0:06:21.760291, Total: 0:25:17.521312, ETA: 2022-10-20 13:23:33.170922]\n",
      " 20000( 5/5), [D loss: 0.561632, accuracy: 0.746094], [G loss: 0.561632], Time[Curr: 0:06:20.964140, Total: 0:31:38.485452, ETA: 2022-10-20 13:23:32.374857]\n",
      "훈련 종료 - Time: 2022-10-20 13:23:32.375675, 전체 소요시간: 0:31:38.486428\n",
      "WARNING:tensorflow:Compiled the loaded model, but the compiled metrics have yet to be built. `model.compile_metrics` will be empty until you train or evaluate the model.\n",
      "INFO:tensorflow:Assets written to: ram://1f411d01-da53-40c1-9dac-7889bc49033b/assets\n",
      "숫자 5 훈련\n",
      "훈련시작: 2022-10-20 13:23:33.171215\n",
      "데이터: Shape=(5421, 28, 28, 1), Epochs=20000, BatchSize=128\n",
      "  4000( 1/5), [D loss: 0.394742, accuracy: 0.804688], [G loss: 0.394742], Time[Curr: 0:06:20.836013, Total: 0:06:20.898344, ETA: 2022-10-20 13:55:17.413725]\n",
      "  8000( 2/5), [D loss: 0.414873, accuracy: 0.851562], [G loss: 0.414873], Time[Curr: 0:06:21.373558, Total: 0:12:42.271902, ETA: 2022-10-20 13:55:19.563865]\n",
      " 12000( 3/5), [D loss: 0.350906, accuracy: 0.855469], [G loss: 0.350906], Time[Curr: 0:06:21.904585, Total: 0:19:04.176487, ETA: 2022-10-20 13:55:21.156918]\n",
      " 16000( 4/5), [D loss: 0.523442, accuracy: 0.742188], [G loss: 0.523442], Time[Curr: 0:06:24.942820, Total: 0:25:29.119307, ETA: 2022-10-20 13:55:27.233461]\n",
      " 20000( 5/5), [D loss: 0.857092, accuracy: 0.531250], [G loss: 0.857092], Time[Curr: 0:06:20.963814, Total: 0:31:50.083121, ETA: 2022-10-20 13:55:23.254408]\n",
      "훈련 종료 - Time: 2022-10-20 13:55:23.254706, 전체 소요시간: 0:31:50.083491\n",
      "WARNING:tensorflow:Compiled the loaded model, but the compiled metrics have yet to be built. `model.compile_metrics` will be empty until you train or evaluate the model.\n",
      "INFO:tensorflow:Assets written to: ram://bf22797b-1aa6-47d4-bb4c-3e723df1b3f2/assets\n",
      "숫자 6 훈련\n",
      "훈련시작: 2022-10-20 13:55:24.464670\n",
      "데이터: Shape=(5918, 28, 28, 1), Epochs=20000, BatchSize=128\n",
      "  4000( 1/5), [D loss: 0.995962, accuracy: 0.480469], [G loss: 0.995962], Time[Curr: 0:06:18.416893, Total: 0:06:18.478755, ETA: 2022-10-20 14:26:56.611076]\n",
      "  8000( 2/5), [D loss: 0.593198, accuracy: 0.765625], [G loss: 0.593198], Time[Curr: 0:06:16.163951, Total: 0:12:34.642706, ETA: 2022-10-20 14:26:47.599294]\n",
      " 12000( 3/5), [D loss: 0.892322, accuracy: 0.519531], [G loss: 0.892322], Time[Curr: 0:06:18.790282, Total: 0:18:53.432988, ETA: 2022-10-20 14:26:55.478313]\n",
      " 16000( 4/5), [D loss: 0.388821, accuracy: 0.824219], [G loss: 0.388821], Time[Curr: 0:06:19.390812, Total: 0:25:12.823800, ETA: 2022-10-20 14:26:56.679400]\n",
      " 20000( 5/5), [D loss: 0.556412, accuracy: 0.742188], [G loss: 0.556412], Time[Curr: 0:06:20.998645, Total: 0:31:33.822445, ETA: 2022-10-20 14:26:58.287208]\n",
      "훈련 종료 - Time: 2022-10-20 14:26:58.287636, 전체 소요시간: 0:31:33.822966\n"
     ]
    },
    {
     "name": "stdout",
     "output_type": "stream",
     "text": [
      "WARNING:tensorflow:Compiled the loaded model, but the compiled metrics have yet to be built. `model.compile_metrics` will be empty until you train or evaluate the model.\n",
      "INFO:tensorflow:Assets written to: ram://3e63d5b4-6dd7-4f70-9aba-8d8bd969fac1/assets\n",
      "숫자 7 훈련\n",
      "훈련시작: 2022-10-20 14:26:59.084533\n",
      "데이터: Shape=(6265, 28, 28, 1), Epochs=20000, BatchSize=128\n",
      "  4000( 1/5), [D loss: 0.791616, accuracy: 0.660156], [G loss: 0.791616], Time[Curr: 0:06:19.961374, Total: 0:06:20.025550, ETA: 2022-10-20 14:58:38.955682]\n",
      "  8000( 2/5), [D loss: 0.895665, accuracy: 0.464844], [G loss: 0.895665], Time[Curr: 0:06:19.183196, Total: 0:12:39.208746, ETA: 2022-10-20 14:58:35.842974]\n",
      " 12000( 3/5), [D loss: 0.341624, accuracy: 0.820312], [G loss: 0.341624], Time[Curr: 0:06:18.890076, Total: 0:18:58.098822, ETA: 2022-10-20 14:58:34.963678]\n",
      " 16000( 4/5), [D loss: 0.625489, accuracy: 0.714844], [G loss: 0.625489], Time[Curr: 0:06:24.151343, Total: 0:25:22.250165, ETA: 2022-10-20 14:58:45.486201]\n",
      " 20000( 5/5), [D loss: 0.673433, accuracy: 0.710938], [G loss: 0.673433], Time[Curr: 0:06:20.129211, Total: 0:31:42.379376, ETA: 2022-10-20 14:58:41.463991]\n",
      "훈련 종료 - Time: 2022-10-20 14:58:41.464353, 전체 소요시간: 0:31:42.379820\n",
      "WARNING:tensorflow:Compiled the loaded model, but the compiled metrics have yet to be built. `model.compile_metrics` will be empty until you train or evaluate the model.\n",
      "INFO:tensorflow:Assets written to: ram://27939c33-4ccb-43c9-9412-90b57d7d12b7/assets\n",
      "숫자 8 훈련\n",
      "훈련시작: 2022-10-20 14:58:42.276449\n",
      "데이터: Shape=(5851, 28, 28, 1), Epochs=20000, BatchSize=128\n",
      "  4000( 1/5), [D loss: 1.012112, accuracy: 0.636719], [G loss: 1.012112], Time[Curr: 0:06:21.287439, Total: 0:06:21.350297, ETA: 2022-10-20 15:30:28.776566]\n",
      "  8000( 2/5), [D loss: 1.016012, accuracy: 0.554688], [G loss: 1.016012], Time[Curr: 0:06:21.516584, Total: 0:12:42.866881, ETA: 2022-10-20 15:30:29.693157]\n",
      " 12000( 3/5), [D loss: 1.059283, accuracy: 0.277344], [G loss: 1.059283], Time[Curr: 0:06:19.719201, Total: 0:19:02.586082, ETA: 2022-10-20 15:30:24.301008]\n",
      " 16000( 4/5), [D loss: 0.786588, accuracy: 0.609375], [G loss: 0.786588], Time[Curr: 0:06:22.566347, Total: 0:25:25.152429, ETA: 2022-10-20 15:30:29.995398]\n",
      " 20000( 5/5), [D loss: 0.451075, accuracy: 0.812500], [G loss: 0.451075], Time[Curr: 0:06:23.223119, Total: 0:31:48.375548, ETA: 2022-10-20 15:30:30.652172]\n",
      "훈련 종료 - Time: 2022-10-20 15:30:30.652971, 전체 소요시간: 0:31:48.376522\n",
      "WARNING:tensorflow:Compiled the loaded model, but the compiled metrics have yet to be built. `model.compile_metrics` will be empty until you train or evaluate the model.\n",
      "INFO:tensorflow:Assets written to: ram://332a665c-1823-4656-8da2-3f0226bdfa24/assets\n",
      "숫자 9 훈련\n",
      "훈련시작: 2022-10-20 15:30:31.453969\n",
      "데이터: Shape=(5949, 28, 28, 1), Epochs=20000, BatchSize=128\n",
      "  4000( 1/5), [D loss: 0.517380, accuracy: 0.753906], [G loss: 0.517380], Time[Curr: 0:06:24.712620, Total: 0:06:24.775298, ETA: 2022-10-20 16:02:35.079858]\n"
     ]
    }
   ],
   "source": [
    "ng = NumberGenerator()\n",
    "ng.fit_all()"
   ]
  },
  {
   "cell_type": "code",
   "execution_count": null,
   "id": "ad10d6cb",
   "metadata": {},
   "outputs": [],
   "source": [
    "ng.generator(1,6,9,4,5)"
   ]
  },
  {
   "cell_type": "code",
   "execution_count": null,
   "id": "0d5cec04",
   "metadata": {},
   "outputs": [],
   "source": []
  }
 ],
 "metadata": {
  "kernelspec": {
   "display_name": "Python 3 (ipykernel)",
   "language": "python",
   "name": "python3"
  },
  "language_info": {
   "codemirror_mode": {
    "name": "ipython",
    "version": 3
   },
   "file_extension": ".py",
   "mimetype": "text/x-python",
   "name": "python",
   "nbconvert_exporter": "python",
   "pygments_lexer": "ipython3",
   "version": "3.9.13"
  }
 },
 "nbformat": 4,
 "nbformat_minor": 5
}
