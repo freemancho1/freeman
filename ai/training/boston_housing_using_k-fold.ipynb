{
 "cells": [
  {
   "cell_type": "markdown",
   "metadata": {},
   "source": [
    "# Regression Analysis of Small Data Using K-Fold\n",
    "\n",
    "A Model for predicting house prices in Boston"
   ]
  },
  {
   "cell_type": "markdown",
   "metadata": {},
   "source": [
    "## Preparation"
   ]
  },
  {
   "cell_type": "markdown",
   "metadata": {},
   "source": [
    "### Load the Library"
   ]
  },
  {
   "cell_type": "code",
   "execution_count": 1,
   "metadata": {},
   "outputs": [],
   "source": [
    "import tensorflow as tf\n",
    "from tensorflow.keras import Model\n",
    "from tensorflow.keras.layers import Dense\n",
    "from tensorflow.keras.datasets.boston_housing import load_data\n",
    "\n",
    "import numpy as np\n",
    "import pandas as pd\n",
    "import matplotlib.pyplot as plt\n",
    "\n",
    "from datetime import datetime\n",
    "\n",
    "from utils.support_tf import LogLevelManager as llm\n",
    "llm.set(2)"
   ]
  },
  {
   "cell_type": "markdown",
   "metadata": {},
   "source": [
    "### Prepare Training Data"
   ]
  },
  {
   "cell_type": "code",
   "execution_count": 2,
   "metadata": {},
   "outputs": [
    {
     "data": {
      "text/plain": [
       "(numpy.ndarray, (404, 13), (102, 13), numpy.ndarray, 7.2)"
      ]
     },
     "execution_count": 2,
     "metadata": {},
     "output_type": "execute_result"
    }
   ],
   "source": [
    "(train_x, train_y), (test_x, test_y) = load_data()\n",
    "type(train_x), train_x.shape, test_x.shape, type(test_y), test_y[0]"
   ]
  },
  {
   "cell_type": "markdown",
   "metadata": {},
   "source": [
    "#### Preprocessing\n",
    "* Normalize each column to a value between -1 and 1"
   ]
  },
  {
   "cell_type": "code",
   "execution_count": 3,
   "metadata": {},
   "outputs": [],
   "source": [
    "normalize_mean = train_x.mean(axis=0)\n",
    "train_x -= normalize_mean\n",
    "normalize_std = train_x.std(axis=0)\n",
    "train_x /= normalize_std\n",
    "\n",
    "# Normalization of test data is processed using normalized values of training data.\n",
    "test_x -= normalize_mean\n",
    "test_x /= normalize_mean"
   ]
  },
  {
   "cell_type": "markdown",
   "metadata": {},
   "source": [
    "## Modeling"
   ]
  },
  {
   "cell_type": "markdown",
   "metadata": {},
   "source": [
    "### Model Definition"
   ]
  },
  {
   "cell_type": "code",
   "execution_count": 4,
   "metadata": {},
   "outputs": [],
   "source": [
    "class SimpleMLPClassification(Model):\n",
    "    def __init__(self, kargs):\n",
    "        super(SimpleMLPClassification, self).__init__(kargs)\n",
    "        self.input_layer = Dense(units=kargs[\"input_layer_units\"], \n",
    "                                 activation=kargs[\"main_af\"], \n",
    "                                 input_shape=kargs[\"input_shape\"])\n",
    "        self.middle_layer = Dense(units=kargs[\"units32\"], activation=kargs[\"main_af\"])\n",
    "        # \"activation\" is not used in regression\n",
    "        self.output_layer = Dense(units=kargs[\"output_layer_units\"])\n",
    "    \n",
    "    def call(self, inputs):\n",
    "        layer = self.input_layer(inputs)\n",
    "        layer = self.middle_layer(layer)\n",
    "        model = self.output_layer(layer)\n",
    "        return model"
   ]
  },
  {
   "cell_type": "markdown",
   "metadata": {},
   "source": [
    "## Training"
   ]
  },
  {
   "cell_type": "markdown",
   "metadata": {},
   "source": [
    "### Define a Global Variables"
   ]
  },
  {
   "cell_type": "code",
   "execution_count": 6,
   "metadata": {},
   "outputs": [],
   "source": [
    "K = 4\n",
    "VALID_SIZE = train_x.shape[0] // K\n",
    "EPOCHS = 100\n",
    "BATCH_SIZE = 1"
   ]
  },
  {
   "cell_type": "markdown",
   "metadata": {},
   "source": [
    "### Define Hyper-Parameter"
   ]
  },
  {
   "cell_type": "code",
   "execution_count": 9,
   "metadata": {},
   "outputs": [],
   "source": [
    "kargs = {\n",
    "    \"name\"                  : \"simple_mlp\",\n",
    "    \"input_layer_units\"     : 64,\n",
    "    \"units32\"               : 32,\n",
    "    \"main_af\"               : \"relu\",\n",
    "    \"input_shape\"           : train_x.shape[1:],\n",
    "    \"output_layer_units\"    : 1,\n",
    "}"
   ]
  },
  {
   "cell_type": "markdown",
   "metadata": {},
   "source": [
    "### Training with all data at once"
   ]
  },
  {
   "cell_type": "code",
   "execution_count": 11,
   "metadata": {},
   "outputs": [
    {
     "name": "stdout",
     "output_type": "stream",
     "text": [
      "4/4 [==============================] - 0s 2ms/step - loss: 160.3245 - mae: 8.5112\n"
     ]
    },
    {
     "data": {
      "text/plain": [
       "(160.324462890625, 8.51121711730957)"
      ]
     },
     "execution_count": 11,
     "metadata": {},
     "output_type": "execute_result"
    }
   ],
   "source": [
    "model = SimpleMLPClassification(kargs)\n",
    "model.compile(optimizer=\"rmsprop\", loss=\"mse\", metrics=[\"mae\"])\n",
    "model.fit(train_x, train_y, epochs=EPOCHS, batch_size=BATCH_SIZE, verbose=0)\n",
    "mse_score, mae_score = model.evaluate(test_x, test_y)\n",
    "mse_score, mae_score"
   ]
  },
  {
   "cell_type": "markdown",
   "metadata": {},
   "source": [
    "### K-Fold Training"
   ]
  },
  {
   "cell_type": "code",
   "execution_count": 12,
   "metadata": {},
   "outputs": [
    {
     "name": "stdout",
     "output_type": "stream",
     "text": [
      "Start Training: 2022-10-18 22:38:10.228007\n",
      "1 fold: (Start) 2022-10-18 22:38:10.228359, (End) 2022-10-18 22:38:50.546313, (Processing Time) 0:00:40.317954, MAE(1.937007735967636/2.0749143862724306)\n",
      "2 fold: (Start) 2022-10-18 22:38:50.546487, (End) 2022-10-18 22:39:30.895254, (Processing Time) 0:00:40.348767, MAE(1.1845612758398056/2.0240016877651215)\n",
      "3 fold: (Start) 2022-10-18 22:39:30.895427, (End) 2022-10-18 22:40:11.056412, (Processing Time) 0:00:40.160985, MAE(0.9442280167341233/1.8264315509796143)\n",
      "4 fold: (Start) 2022-10-18 22:40:11.056579, (End) 2022-10-18 22:40:50.780418, (Processing Time) 0:00:39.723839, MAE(0.9721349668502808/1.330679433941841)\n",
      "End Training: 2022-10-18 22:40:50.780726, Processing Time: 0:02:40.552719\n"
     ]
    }
   ],
   "source": [
    "model = SimpleMLPClassification(kargs)\n",
    "model.compile(optimizer=\"rmsprop\", loss=\"mse\", metrics=[\"mae\"])\n",
    "\n",
    "start_train = datetime.now()\n",
    "print(f\"Start Training: {start_train}\")\n",
    "\n",
    "for i in range(K):\n",
    "    start_fold = datetime.now()\n",
    "    print(f\"{i+1} fold: (Start) {start_fold}, \", end=\"\")\n",
    "    \n",
    "    fold_valid_x = train_x[i*VALID_SIZE:(i+1)*VALID_SIZE]\n",
    "    fold_valid_y = train_y[i*VALID_SIZE:(i+1)*VALID_SIZE]\n",
    "    fold_train_x = np.concatenate([train_x[:i*VALID_SIZE], train_x[(i+1)*VALID_SIZE:]], axis=0)\n",
    "    fold_train_y = np.concatenate([train_y[:i*VALID_SIZE], train_y[(i+1)*VALID_SIZE:]], axis=0)\n",
    "    fold_history = model.fit(fold_train_x, fold_train_y, epochs=EPOCHS, batch_size=BATCH_SIZE,\n",
    "                             validation_data=(fold_valid_x, fold_valid_y), verbose=0)\n",
    "    fold_mae = fold_history.history[\"mae\"]\n",
    "    fold_val_mae = fold_history.history[\"val_mae\"]\n",
    "    end_fold = datetime.now()\n",
    "    print(f\"(End) {end_fold}, (Processing Time) {end_fold-start_fold}, MAE({np.mean(fold_mae)}/{np.mean(fold_val_mae)})\")\n",
    "    \n",
    "end_train = datetime.now()\n",
    "print(f\"End Training: {end_train}, Processing Time: {end_train-start_train}\")"
   ]
  },
  {
   "cell_type": "markdown",
   "metadata": {},
   "source": [
    "#### Evaluation"
   ]
  },
  {
   "cell_type": "code",
   "execution_count": 13,
   "metadata": {},
   "outputs": [
    {
     "name": "stdout",
     "output_type": "stream",
     "text": [
      "4/4 [==============================] - 0s 1ms/step - loss: 330.0292 - mae: 10.3524\n"
     ]
    },
    {
     "data": {
      "text/plain": [
       "(330.0292053222656, 10.352420806884766)"
      ]
     },
     "execution_count": 13,
     "metadata": {},
     "output_type": "execute_result"
    }
   ],
   "source": [
    "mse_score, mae_score = model.evaluate(test_x, test_y)\n",
    "mse_score, mae_score"
   ]
  },
  {
   "cell_type": "code",
   "execution_count": null,
   "metadata": {},
   "outputs": [],
   "source": []
  }
 ],
 "metadata": {
  "kernelspec": {
   "display_name": "Python 3.9.13 ('tf27p39')",
   "language": "python",
   "name": "python3"
  },
  "language_info": {
   "codemirror_mode": {
    "name": "ipython",
    "version": 3
   },
   "file_extension": ".py",
   "mimetype": "text/x-python",
   "name": "python",
   "nbconvert_exporter": "python",
   "pygments_lexer": "ipython3",
   "version": "3.9.13"
  },
  "orig_nbformat": 4,
  "vscode": {
   "interpreter": {
    "hash": "adc6a6ffc7682364230b93b75ca0d1bdd8db84ff27ffd4d90b08b9e56198ae80"
   }
  }
 },
 "nbformat": 4,
 "nbformat_minor": 2
}
