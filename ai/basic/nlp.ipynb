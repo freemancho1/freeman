{
 "cells": [
  {
   "cell_type": "markdown",
   "metadata": {},
   "source": [
    "# Basic NLP(Natural Language Processing)"
   ]
  },
  {
   "cell_type": "markdown",
   "metadata": {},
   "source": [
    "## Todo:\n",
    "* Read sentences and evaluate negative/positive"
   ]
  },
  {
   "cell_type": "markdown",
   "metadata": {},
   "source": [
    "## Preparation"
   ]
  },
  {
   "cell_type": "markdown",
   "metadata": {},
   "source": [
    "### Load the Library"
   ]
  },
  {
   "cell_type": "code",
   "execution_count": 1,
   "metadata": {},
   "outputs": [],
   "source": [
    "import tensorflow as tf\n",
    "import numpy as np\n",
    "\n",
    "from utils.support_tf import LogLevelManager as llm"
   ]
  },
  {
   "cell_type": "code",
   "execution_count": 3,
   "metadata": {},
   "outputs": [],
   "source": [
    "# Set display tensorflow log level\n",
    "# 2 - warning, error display\n",
    "llm.set(2)"
   ]
  },
  {
   "cell_type": "markdown",
   "metadata": {},
   "source": [
    "### Prepare Training Data\n",
    "> Caution:\n",
    "* Constructs a sentence of 4 words(separated by 3 spaces) as one input data."
   ]
  },
  {
   "cell_type": "markdown",
   "metadata": {},
   "source": [
    "#### Get Source Data"
   ]
  },
  {
   "cell_type": "code",
   "execution_count": 4,
   "metadata": {},
   "outputs": [],
   "source": [
    "original_x = [\n",
    "    '너 오늘 이뻐 보인다.',\n",
    "    '나는 오늘 기분이 더러워',\n",
    "    '끝내주는데, 좋은 일 있나봐?',\n",
    "    '나 좋은 일 생겼어',\n",
    "    '아 오늘 진짜 짜증나!',\n",
    "    '환상적인데, 정말 좋은거 같아'    \n",
    "]\n",
    "original_y = [[1], [0], [1], [1], [0], [1]]   # 1-positive, 0-negative\n",
    "\n",
    "question_x = [\n",
    "    '나 오늘 아주 좋은',\n",
    "    '아 너는 진짜 더러워'\n",
    "]"
   ]
  },
  {
   "cell_type": "markdown",
   "metadata": {},
   "source": [
    "#### Preprocessing"
   ]
  },
  {
   "cell_type": "markdown",
   "metadata": {},
   "source": [
    "##### Tokenizing\n",
    "* Create a dictionary using words from the training data."
   ]
  },
  {
   "cell_type": "code",
   "execution_count": 5,
   "metadata": {},
   "outputs": [],
   "source": [
    "tokenizer = tf.keras.preprocessing.text.Tokenizer()\n",
    "tokenizer.fit_on_texts(original_x)"
   ]
  },
  {
   "cell_type": "code",
   "execution_count": 8,
   "metadata": {},
   "outputs": [
    {
     "name": "stdout",
     "output_type": "stream",
     "text": [
      "Word Count: 20\n"
     ]
    }
   ],
   "source": [
    "print(f\"Word Count: {len(tokenizer.word_counts)}\")"
   ]
  },
  {
   "cell_type": "code",
   "execution_count": 7,
   "metadata": {},
   "outputs": [
    {
     "data": {
      "text/plain": [
       "{'오늘': 1,\n",
       " '좋은': 2,\n",
       " '일': 3,\n",
       " '너': 4,\n",
       " '이뻐': 5,\n",
       " '보인다': 6,\n",
       " '나는': 7,\n",
       " '기분이': 8,\n",
       " '더러워': 9,\n",
       " '끝내주는데': 10,\n",
       " '있나봐': 11,\n",
       " '나': 12,\n",
       " '생겼어': 13,\n",
       " '아': 14,\n",
       " '진짜': 15,\n",
       " '짜증나': 16,\n",
       " '환상적인데': 17,\n",
       " '정말': 18,\n",
       " '좋은거': 19,\n",
       " '같아': 20}"
      ]
     },
     "execution_count": 7,
     "metadata": {},
     "output_type": "execute_result"
    }
   ],
   "source": [
    "tokenizer.word_index"
   ]
  },
  {
   "cell_type": "markdown",
   "metadata": {},
   "source": [
    "##### Text To Numeric\n",
    "\n",
    "Convert text data to numeric using a dictionary"
   ]
  },
  {
   "cell_type": "code",
   "execution_count": null,
   "metadata": {},
   "outputs": [],
   "source": []
  }
 ],
 "metadata": {
  "kernelspec": {
   "display_name": "Python 3.9.13 ('trading_tf27p39')",
   "language": "python",
   "name": "python3"
  },
  "language_info": {
   "codemirror_mode": {
    "name": "ipython",
    "version": 3
   },
   "file_extension": ".py",
   "mimetype": "text/x-python",
   "name": "python",
   "nbconvert_exporter": "python",
   "pygments_lexer": "ipython3",
   "version": "3.9.13"
  },
  "orig_nbformat": 4,
  "vscode": {
   "interpreter": {
    "hash": "0b6811cd82cc4a4878434e8dc612a94ec3b9b1280a32e3fe15351c8f3557448f"
   }
  }
 },
 "nbformat": 4,
 "nbformat_minor": 2
}
