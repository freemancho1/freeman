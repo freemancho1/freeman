{
 "cells": [
  {
   "cell_type": "markdown",
   "metadata": {},
   "source": [
    "# MLP vs CNN\n",
    "* Multi-Layer Perceptron\n",
    "* Convolution Neural Network"
   ]
  },
  {
   "cell_type": "markdown",
   "metadata": {},
   "source": [
    "## Preparation"
   ]
  },
  {
   "cell_type": "markdown",
   "metadata": {},
   "source": [
    "### Load Library"
   ]
  },
  {
   "cell_type": "code",
   "execution_count": 1,
   "metadata": {},
   "outputs": [],
   "source": [
    "import tensorflow as tf\n",
    "import numpy as np\n",
    "import matplotlib.pyplot as plt\n",
    "\n",
    "from utils.support_tf import LogLevelManager\n",
    "LogLevelManager.set(2)"
   ]
  },
  {
   "cell_type": "markdown",
   "metadata": {},
   "source": [
    "### Define Global Variables"
   ]
  },
  {
   "cell_type": "code",
   "execution_count": 2,
   "metadata": {},
   "outputs": [],
   "source": [
    "EPOCHS = 5\n",
    "BATCH_SIZE = 128"
   ]
  },
  {
   "cell_type": "markdown",
   "metadata": {},
   "source": [
    "### Prepare Training Data"
   ]
  },
  {
   "cell_type": "code",
   "execution_count": 3,
   "metadata": {},
   "outputs": [],
   "source": [
    "(train_x, train_y), (test_x, test_y) = tf.keras.datasets.mnist.load_data()"
   ]
  },
  {
   "cell_type": "code",
   "execution_count": 4,
   "metadata": {},
   "outputs": [],
   "source": [
    "train_x, test_x = tf.expand_dims(train_x/255., -1), tf.expand_dims(test_x/255., -1)\n",
    "train_ds = tf.data.Dataset.from_tensor_slices((train_x, train_y)).shuffle(train_x.shape[0]).batch(BATCH_SIZE)\n",
    "# Test data are not shuffled.\n",
    "test_ds = tf.data.Dataset.from_tensor_slices((test_x, test_y)).batch(BATCH_SIZE)"
   ]
  },
  {
   "cell_type": "markdown",
   "metadata": {},
   "source": [
    "## MLP Model"
   ]
  },
  {
   "cell_type": "markdown",
   "metadata": {},
   "source": [
    "### Define Using Class"
   ]
  },
  {
   "cell_type": "code",
   "execution_count": 18,
   "metadata": {},
   "outputs": [],
   "source": [
    "class SimpleMLP(tf.keras.Model):\n",
    "    \n",
    "    def __init__(self):\n",
    "        super(SimpleMLP, self).__init__(name=\"simple_nlp\")\n",
    "        \n",
    "        self.i  = tf.keras.layers.Dense(units=64, activation=\"relu\", input_shape=train_x.shape[1:])\n",
    "        self.d1 = tf.keras.layers.Dense(units=128, activation=\"relu\")\n",
    "        self.d2 = tf.keras.layers.Dense(units=256, activation=\"relu\")\n",
    "        self.f1 = tf.keras.layers.Flatten()\n",
    "        self.d3 = tf.keras.layers.Dense(units=256, activation=\"relu\")\n",
    "        self.o  = tf.keras.layers.Dense(units=10, activation=\"softmax\")\n",
    "        \n",
    "    def call(self, inputs):\n",
    "        l = self.i(inputs)\n",
    "        l = self.d1(l)\n",
    "        l = self.d2(l)\n",
    "        l = self.f1(l)\n",
    "        l = self.d3(l)\n",
    "        l = self.o(l)\n",
    "        return l"
   ]
  },
  {
   "cell_type": "code",
   "execution_count": 19,
   "metadata": {},
   "outputs": [],
   "source": [
    "mlp = SimpleMLP()\n",
    "mlp.compile(optimizer=\"adam\", loss=\"sparse_categorical_crossentropy\", metrics=[\"accuracy\"])"
   ]
  },
  {
   "cell_type": "markdown",
   "metadata": {},
   "source": [
    "### Training & Validation"
   ]
  },
  {
   "cell_type": "code",
   "execution_count": 20,
   "metadata": {},
   "outputs": [
    {
     "name": "stdout",
     "output_type": "stream",
     "text": [
      "Epoch 1/5\n",
      "469/469 [==============================] - 12s 25ms/step - loss: 0.2430 - accuracy: 0.9273 - val_loss: 0.1144 - val_accuracy: 0.9651\n",
      "Epoch 2/5\n",
      "469/469 [==============================] - 12s 24ms/step - loss: 0.0996 - accuracy: 0.9706 - val_loss: 0.0972 - val_accuracy: 0.9715\n",
      "Epoch 3/5\n",
      "469/469 [==============================] - 11s 24ms/step - loss: 0.0652 - accuracy: 0.9797 - val_loss: 0.0856 - val_accuracy: 0.9736\n",
      "Epoch 4/5\n",
      "469/469 [==============================] - 12s 24ms/step - loss: 0.0478 - accuracy: 0.9842 - val_loss: 0.0799 - val_accuracy: 0.9769\n",
      "Epoch 5/5\n",
      "469/469 [==============================] - 12s 24ms/step - loss: 0.0372 - accuracy: 0.9876 - val_loss: 0.0873 - val_accuracy: 0.9738\n"
     ]
    },
    {
     "data": {
      "text/plain": [
       "<keras.callbacks.History at 0x7eff65b6ea30>"
      ]
     },
     "execution_count": 20,
     "metadata": {},
     "output_type": "execute_result"
    }
   ],
   "source": [
    "mlp.fit(train_ds, batch_size=BATCH_SIZE, epochs=EPOCHS, validation_data=test_ds)"
   ]
  },
  {
   "cell_type": "markdown",
   "metadata": {},
   "source": [
    "### Evaluation"
   ]
  },
  {
   "cell_type": "code",
   "execution_count": 21,
   "metadata": {},
   "outputs": [
    {
     "name": "stdout",
     "output_type": "stream",
     "text": [
      "79/79 [==============================] - 1s 12ms/step - loss: 0.0873 - accuracy: 0.9738\n"
     ]
    },
    {
     "data": {
      "text/plain": [
       "[0.08733433485031128, 0.973800003528595]"
      ]
     },
     "execution_count": 21,
     "metadata": {},
     "output_type": "execute_result"
    }
   ],
   "source": [
    "mlp.evaluate(test_ds)"
   ]
  },
  {
   "cell_type": "markdown",
   "metadata": {},
   "source": [
    "## CNN Model"
   ]
  },
  {
   "cell_type": "markdown",
   "metadata": {},
   "source": [
    "### Define Using Class"
   ]
  },
  {
   "cell_type": "code",
   "execution_count": 35,
   "metadata": {},
   "outputs": [],
   "source": [
    "class SimpleCNN(tf.keras.Model):\n",
    "    \n",
    "    def __init__(self):\n",
    "        super(SimpleCNN, self).__init__(name=\"simple_cnn\")\n",
    "        self.ci = tf.keras.layers.Conv2D(filters=64, kernel_size=(3,3), \n",
    "                                        #  strides=(3,3), padding=\"same\",\n",
    "                                         activation=\"relu\", input_shape=train_x.shape[1:])\n",
    "        self.mi = tf.keras.layers.MaxPooling2D(pool_size=(2,2))\n",
    "        self.c1 = tf.keras.layers.Conv2D(filters=128, kernel_size=(3,3), \n",
    "                                        #  strides=(3,3), padding=\"same\",\n",
    "                                         activation=\"relu\")\n",
    "        self.m1 = tf.keras.layers.MaxPooling2D(pool_size=(2,2))\n",
    "        self.c2 = tf.keras.layers.Conv2D(filters=256, kernel_size=(3,3), \n",
    "                                        #  strides=(3,3), padding=\"same\",\n",
    "                                         activation=\"relu\")\n",
    "        self.m2 = tf.keras.layers.MaxPooling2D(pool_size=(2,2))\n",
    "        self.f  = tf.keras.layers.Flatten()\n",
    "        self.d1 = tf.keras.layers.Dense(units=256, activation=\"relu\")\n",
    "        self.o  = tf.keras.layers.Dense(units=10, activation=\"softmax\")\n",
    "        \n",
    "    def call(self, inputs):\n",
    "        l = self.ci(inputs)\n",
    "        l = self.mi(l)\n",
    "        l = self.c1(l)\n",
    "        l = self.m1(l)\n",
    "        l = self.c2(l)\n",
    "        l = self.m2(l)\n",
    "        l = self.f(l)\n",
    "        l = self.d1(l)\n",
    "        l = self.o(l)\n",
    "        return l"
   ]
  },
  {
   "cell_type": "code",
   "execution_count": 36,
   "metadata": {},
   "outputs": [],
   "source": [
    "cnn = SimpleCNN()\n",
    "cnn.compile(optimizer=\"adam\", loss=\"sparse_categorical_crossentropy\", metrics=[\"accuracy\"])"
   ]
  },
  {
   "cell_type": "markdown",
   "metadata": {},
   "source": [
    "### Training & Validation"
   ]
  },
  {
   "cell_type": "code",
   "execution_count": 38,
   "metadata": {},
   "outputs": [
    {
     "name": "stdout",
     "output_type": "stream",
     "text": [
      "Epoch 1/5\n",
      "469/469 [==============================] - 6s 12ms/step - loss: 0.0198 - accuracy: 0.9940 - val_loss: 0.0462 - val_accuracy: 0.9858\n",
      "Epoch 2/5\n",
      "469/469 [==============================] - 6s 12ms/step - loss: 0.0175 - accuracy: 0.9945 - val_loss: 0.0449 - val_accuracy: 0.9881\n",
      "Epoch 3/5\n",
      "469/469 [==============================] - 6s 12ms/step - loss: 0.0152 - accuracy: 0.9948 - val_loss: 0.0433 - val_accuracy: 0.9887\n",
      "Epoch 4/5\n",
      "469/469 [==============================] - 6s 12ms/step - loss: 0.0126 - accuracy: 0.9957 - val_loss: 0.0537 - val_accuracy: 0.9863\n",
      "Epoch 5/5\n",
      "469/469 [==============================] - 6s 12ms/step - loss: 0.0108 - accuracy: 0.9964 - val_loss: 0.0868 - val_accuracy: 0.9819\n"
     ]
    },
    {
     "data": {
      "text/plain": [
       "<keras.callbacks.History at 0x7eff65467460>"
      ]
     },
     "execution_count": 38,
     "metadata": {},
     "output_type": "execute_result"
    }
   ],
   "source": [
    "cnn.fit(train_ds, epochs=EPOCHS, batch_size=BATCH_SIZE, validation_data=test_ds)"
   ]
  },
  {
   "cell_type": "markdown",
   "metadata": {},
   "source": [
    "### Evaluation"
   ]
  },
  {
   "cell_type": "code",
   "execution_count": 25,
   "metadata": {},
   "outputs": [
    {
     "name": "stdout",
     "output_type": "stream",
     "text": [
      "79/79 [==============================] - 1s 7ms/step - loss: 0.0442 - accuracy: 0.9864\n"
     ]
    },
    {
     "data": {
      "text/plain": [
       "[0.04416196420788765, 0.9864000082015991]"
      ]
     },
     "execution_count": 25,
     "metadata": {},
     "output_type": "execute_result"
    }
   ],
   "source": [
    "cnn.evaluate(test_ds)"
   ]
  }
 ],
 "metadata": {
  "kernelspec": {
   "display_name": "Python 3.9.13 ('trading_tf27p39')",
   "language": "python",
   "name": "python3"
  },
  "language_info": {
   "codemirror_mode": {
    "name": "ipython",
    "version": 3
   },
   "file_extension": ".py",
   "mimetype": "text/x-python",
   "name": "python",
   "nbconvert_exporter": "python",
   "pygments_lexer": "ipython3",
   "version": "3.9.13"
  },
  "orig_nbformat": 4,
  "vscode": {
   "interpreter": {
    "hash": "0b6811cd82cc4a4878434e8dc612a94ec3b9b1280a32e3fe15351c8f3557448f"
   }
  }
 },
 "nbformat": 4,
 "nbformat_minor": 2
}
