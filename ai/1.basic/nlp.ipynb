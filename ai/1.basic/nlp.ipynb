{
 "cells": [
  {
   "cell_type": "markdown",
   "metadata": {},
   "source": [
    "# Basic NLP(Natural Language Processing)"
   ]
  },
  {
   "cell_type": "markdown",
   "metadata": {},
   "source": [
    "## Todo:\n",
    "* Read sentences and evaluate negative/positive"
   ]
  },
  {
   "cell_type": "markdown",
   "metadata": {},
   "source": [
    "## Preparation"
   ]
  },
  {
   "cell_type": "markdown",
   "metadata": {},
   "source": [
    "### Load the Library"
   ]
  },
  {
   "cell_type": "code",
   "execution_count": 1,
   "metadata": {},
   "outputs": [],
   "source": [
    "import tensorflow as tf\n",
    "import numpy as np\n",
    "\n",
    "from utils.support_tf import LogLevelManager as llm"
   ]
  },
  {
   "cell_type": "code",
   "execution_count": 2,
   "metadata": {},
   "outputs": [],
   "source": [
    "# Set display tensorflow log level\n",
    "# 2 - warning, error display\n",
    "llm.set(2)"
   ]
  },
  {
   "cell_type": "markdown",
   "metadata": {},
   "source": [
    "### Prepare Training Data\n",
    "> Caution:\n",
    "* Constructs a sentence of 4 words(separated by 3 spaces) as one input data."
   ]
  },
  {
   "cell_type": "markdown",
   "metadata": {},
   "source": [
    "#### Get Source Data"
   ]
  },
  {
   "cell_type": "code",
   "execution_count": 3,
   "metadata": {},
   "outputs": [],
   "source": [
    "original_x = [\n",
    "    '너 오늘 이뻐 보인다.',\n",
    "    '나는 오늘 기분이 더러워',\n",
    "    '끝내주는데, 좋은 일 있나봐?',\n",
    "    '나 좋은 일 생겼어',\n",
    "    '아 오늘 진짜 짜증나!',\n",
    "    '환상적인데, 정말 좋은거 같아'    \n",
    "]\n",
    "original_y = [[1], [0], [1], [1], [0], [1]]   # 1-positive, 0-negative\n",
    "\n",
    "question_x = [\n",
    "    '나 오늘 아주 좋은',\n",
    "    '아 너는 진짜 더러워'\n",
    "]"
   ]
  },
  {
   "cell_type": "markdown",
   "metadata": {},
   "source": [
    "#### Preprocessing"
   ]
  },
  {
   "cell_type": "markdown",
   "metadata": {},
   "source": [
    "##### Tokenizing\n",
    "* Create a dictionary using words from the training data."
   ]
  },
  {
   "cell_type": "code",
   "execution_count": 4,
   "metadata": {},
   "outputs": [],
   "source": [
    "tokenizer = tf.keras.preprocessing.text.Tokenizer()\n",
    "tokenizer.fit_on_texts(original_x)"
   ]
  },
  {
   "cell_type": "code",
   "execution_count": 5,
   "metadata": {},
   "outputs": [
    {
     "name": "stdout",
     "output_type": "stream",
     "text": [
      "Word Count: 20\n"
     ]
    }
   ],
   "source": [
    "print(f\"Word Count: {len(tokenizer.word_counts)}\")"
   ]
  },
  {
   "cell_type": "code",
   "execution_count": 6,
   "metadata": {},
   "outputs": [
    {
     "data": {
      "text/plain": [
       "{'오늘': 1,\n",
       " '좋은': 2,\n",
       " '일': 3,\n",
       " '너': 4,\n",
       " '이뻐': 5,\n",
       " '보인다': 6,\n",
       " '나는': 7,\n",
       " '기분이': 8,\n",
       " '더러워': 9,\n",
       " '끝내주는데': 10,\n",
       " '있나봐': 11,\n",
       " '나': 12,\n",
       " '생겼어': 13,\n",
       " '아': 14,\n",
       " '진짜': 15,\n",
       " '짜증나': 16,\n",
       " '환상적인데': 17,\n",
       " '정말': 18,\n",
       " '좋은거': 19,\n",
       " '같아': 20}"
      ]
     },
     "execution_count": 6,
     "metadata": {},
     "output_type": "execute_result"
    }
   ],
   "source": [
    "tokenizer.word_index"
   ]
  },
  {
   "cell_type": "markdown",
   "metadata": {},
   "source": [
    "##### Text To Numeric\n",
    "\n",
    "Convert text data to numeric using a dictionary"
   ]
  },
  {
   "cell_type": "code",
   "execution_count": 7,
   "metadata": {},
   "outputs": [
    {
     "data": {
      "text/plain": [
       "[[4, 1, 5, 6],\n",
       " [7, 1, 8, 9],\n",
       " [10, 2, 3, 11],\n",
       " [12, 2, 3, 13],\n",
       " [14, 1, 15, 16],\n",
       " [17, 18, 19, 20]]"
      ]
     },
     "execution_count": 7,
     "metadata": {},
     "output_type": "execute_result"
    }
   ],
   "source": [
    "original_num = tokenizer.texts_to_sequences(original_x)\n",
    "original_num"
   ]
  },
  {
   "cell_type": "code",
   "execution_count": 9,
   "metadata": {},
   "outputs": [
    {
     "data": {
      "text/plain": [
       "(list, list)"
      ]
     },
     "execution_count": 9,
     "metadata": {},
     "output_type": "execute_result"
    }
   ],
   "source": [
    "type(original_num), type(original_y)"
   ]
  },
  {
   "cell_type": "code",
   "execution_count": 10,
   "metadata": {},
   "outputs": [
    {
     "data": {
      "text/plain": [
       "(numpy.ndarray, numpy.ndarray)"
      ]
     },
     "execution_count": 10,
     "metadata": {},
     "output_type": "execute_result"
    }
   ],
   "source": [
    "train_x, train_y = np.array(original_num), np.array(original_y)\n",
    "type(train_x), type(train_y)"
   ]
  },
  {
   "cell_type": "markdown",
   "metadata": {},
   "source": [
    "##### Save Dictionary & Append PAD\n",
    "* PAD - Padding data"
   ]
  },
  {
   "cell_type": "code",
   "execution_count": 11,
   "metadata": {},
   "outputs": [],
   "source": [
    "vocab_data = tokenizer.word_index\n",
    "vocab_data['<PAD>'] = 0"
   ]
  },
  {
   "cell_type": "code",
   "execution_count": 12,
   "metadata": {},
   "outputs": [
    {
     "data": {
      "text/plain": [
       "{'오늘': 1,\n",
       " '좋은': 2,\n",
       " '일': 3,\n",
       " '너': 4,\n",
       " '이뻐': 5,\n",
       " '보인다': 6,\n",
       " '나는': 7,\n",
       " '기분이': 8,\n",
       " '더러워': 9,\n",
       " '끝내주는데': 10,\n",
       " '있나봐': 11,\n",
       " '나': 12,\n",
       " '생겼어': 13,\n",
       " '아': 14,\n",
       " '진짜': 15,\n",
       " '짜증나': 16,\n",
       " '환상적인데': 17,\n",
       " '정말': 18,\n",
       " '좋은거': 19,\n",
       " '같아': 20,\n",
       " '<PAD>': 0}"
      ]
     },
     "execution_count": 12,
     "metadata": {},
     "output_type": "execute_result"
    }
   ],
   "source": [
    "vocab_data"
   ]
  },
  {
   "cell_type": "markdown",
   "metadata": {},
   "source": [
    "### Define Global Variables"
   ]
  },
  {
   "cell_type": "code",
   "execution_count": 54,
   "metadata": {},
   "outputs": [],
   "source": [
    "EPOCHS = 10\n",
    "BATCH_SIZE = 2\n",
    "EMBEDDING_MAX_VALUE = max(vocab_data.values()) + 1"
   ]
  },
  {
   "cell_type": "markdown",
   "metadata": {},
   "source": [
    "## Model "
   ]
  },
  {
   "cell_type": "markdown",
   "metadata": {},
   "source": [
    "### Define"
   ]
  },
  {
   "cell_type": "code",
   "execution_count": 70,
   "metadata": {},
   "outputs": [
    {
     "ename": "",
     "evalue": "",
     "output_type": "error",
     "traceback": [
      "\u001b[1;31m현재 셀 또는 이전 셀에서 코드를 실행하는 동안 Kernel이 충돌했습니다. 셀의 코드를 검토하여 오류의 가능한 원인을 식별하세요. 자세한 내용을 보려면 <a href='https://aka.ms/vscodeJupyterKernelCrash'> 여기 </a> 를 클릭하세요. 자세한 내용은 Jupyter <a href='command:jupyter.viewOutput'>로그</a>를 참조하세요."
     ]
    }
   ],
   "source": [
    "nlp_model = tf.keras.models.Sequential([\n",
    "    tf.keras.layers.Embedding(input_dim=EMBEDDING_MAX_VALUE, output_dim=32),\n",
    "    tf.keras.layers.Dense(units=32, activation='relu'),\n",
    "    tf.keras.layers.Dense(units=1, activation='sigmoid')\n",
    "])\n",
    "nlp_model.compile(optimizer='adam', loss='binary_crossentropy', metrics=['accuracy'])"
   ]
  },
  {
   "cell_type": "markdown",
   "metadata": {},
   "source": [
    "### Training"
   ]
  },
  {
   "cell_type": "code",
   "execution_count": null,
   "metadata": {},
   "outputs": [],
   "source": [
    "tf.reduce_mean"
   ]
  },
  {
   "cell_type": "code",
   "execution_count": 57,
   "metadata": {},
   "outputs": [
    {
     "name": "stdout",
     "output_type": "stream",
     "text": [
      "Epoch 1/10\n",
      "3/3 [==============================] - 2s 7ms/step - loss: 0.6905 - accuracy: 0.5000\n",
      "Epoch 2/10\n",
      "3/3 [==============================] - 0s 7ms/step - loss: 0.6828 - accuracy: 0.6667\n",
      "Epoch 3/10\n",
      "3/3 [==============================] - 0s 8ms/step - loss: 0.6774 - accuracy: 0.6667\n",
      "Epoch 4/10\n",
      "3/3 [==============================] - 0s 7ms/step - loss: 0.6720 - accuracy: 0.6667\n",
      "Epoch 5/10\n",
      "3/3 [==============================] - 0s 7ms/step - loss: 0.6674 - accuracy: 0.7083\n",
      "Epoch 6/10\n",
      "3/3 [==============================] - 0s 7ms/step - loss: 0.6617 - accuracy: 0.7500\n",
      "Epoch 7/10\n",
      "3/3 [==============================] - 0s 7ms/step - loss: 0.6560 - accuracy: 0.7917\n",
      "Epoch 8/10\n",
      "3/3 [==============================] - 0s 7ms/step - loss: 0.6509 - accuracy: 0.8333\n",
      "Epoch 9/10\n",
      "3/3 [==============================] - 0s 7ms/step - loss: 0.6437 - accuracy: 0.8333\n",
      "Epoch 10/10\n",
      "3/3 [==============================] - 0s 7ms/step - loss: 0.6367 - accuracy: 0.8333\n"
     ]
    },
    {
     "data": {
      "text/plain": [
       "<keras.callbacks.History at 0x7f80d80d5f70>"
      ]
     },
     "execution_count": 57,
     "metadata": {},
     "output_type": "execute_result"
    }
   ],
   "source": [
    "nlp_model.fit(train_x, train_y, epochs=EPOCHS, batch_size=BATCH_SIZE)"
   ]
  },
  {
   "cell_type": "markdown",
   "metadata": {},
   "source": [
    "### Evaluate"
   ]
  },
  {
   "cell_type": "code",
   "execution_count": 63,
   "metadata": {},
   "outputs": [],
   "source": [
    "question_num = tokenizer.texts_to_sequences(question_x)\n",
    "test_x = np.array(question_num)\n",
    "pred_y = nlp_model.predict(test_x)"
   ]
  },
  {
   "cell_type": "code",
   "execution_count": 68,
   "metadata": {},
   "outputs": [
    {
     "name": "stdout",
     "output_type": "stream",
     "text": [
      "나 오늘 아주 좋은 => 긍정\n",
      "아 너는 진짜 더러워 => 부정\n"
     ]
    }
   ],
   "source": [
    "for idx, p in enumerate(pred_y):\n",
    "    print(f'{question_x[idx]} => {\"긍정\" if np.mean(p)>.5 else \"부정\"}')"
   ]
  }
 ],
 "metadata": {
  "kernelspec": {
   "display_name": "Python 3.9.13 ('trading_tf27p39')",
   "language": "python",
   "name": "python3"
  },
  "language_info": {
   "codemirror_mode": {
    "name": "ipython",
    "version": 3
   },
   "file_extension": ".py",
   "mimetype": "text/x-python",
   "name": "python",
   "nbconvert_exporter": "python",
   "pygments_lexer": "ipython3",
   "version": "3.9.13"
  },
  "orig_nbformat": 4,
  "vscode": {
   "interpreter": {
    "hash": "0b6811cd82cc4a4878434e8dc612a94ec3b9b1280a32e3fe15351c8f3557448f"
   }
  }
 },
 "nbformat": 4,
 "nbformat_minor": 2
}
