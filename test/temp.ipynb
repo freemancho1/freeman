{
 "cells": [
  {
   "cell_type": "code",
   "execution_count": 1,
   "metadata": {},
   "outputs": [],
   "source": [
    "import pandas as pd"
   ]
  },
  {
   "cell_type": "code",
   "execution_count": 2,
   "metadata": {},
   "outputs": [],
   "source": [
    "merge_df = pd.read_csv(\"~/projects/data/crawling/krx/merge/krx-merge.csv\", sep=\",\")"
   ]
  },
  {
   "cell_type": "code",
   "execution_count": 3,
   "metadata": {},
   "outputs": [],
   "source": [
    "part1012_df = merge_df[merge_df[\"date\"]<\"2022-10-13\"].copy(deep=True)"
   ]
  },
  {
   "cell_type": "code",
   "execution_count": 4,
   "metadata": {},
   "outputs": [
    {
     "data": {
      "text/html": [
       "<div>\n",
       "<style scoped>\n",
       "    .dataframe tbody tr th:only-of-type {\n",
       "        vertical-align: middle;\n",
       "    }\n",
       "\n",
       "    .dataframe tbody tr th {\n",
       "        vertical-align: top;\n",
       "    }\n",
       "\n",
       "    .dataframe thead th {\n",
       "        text-align: right;\n",
       "    }\n",
       "</style>\n",
       "<table border=\"1\" class=\"dataframe\">\n",
       "  <thead>\n",
       "    <tr style=\"text-align: right;\">\n",
       "      <th></th>\n",
       "      <th>com_code</th>\n",
       "      <th>com_name</th>\n",
       "      <th>m_type</th>\n",
       "      <th>close</th>\n",
       "      <th>diff</th>\n",
       "      <th>ratio</th>\n",
       "      <th>open</th>\n",
       "      <th>high</th>\n",
       "      <th>low</th>\n",
       "      <th>volume</th>\n",
       "      <th>value</th>\n",
       "      <th>t_value</th>\n",
       "      <th>t_volume</th>\n",
       "      <th>date</th>\n",
       "    </tr>\n",
       "  </thead>\n",
       "  <tbody>\n",
       "    <tr>\n",
       "      <th>11310099</th>\n",
       "      <td>000547</td>\n",
       "      <td>흥국화재2우B</td>\n",
       "      <td>KOSPI</td>\n",
       "      <td>21000.0</td>\n",
       "      <td>-2500.0</td>\n",
       "      <td>-10.64</td>\n",
       "      <td>23250.0</td>\n",
       "      <td>23250.0</td>\n",
       "      <td>20850.0</td>\n",
       "      <td>5498.0</td>\n",
       "      <td>1.174935e+08</td>\n",
       "      <td>3.225600e+09</td>\n",
       "      <td>153600</td>\n",
       "      <td>2022-10-12</td>\n",
       "    </tr>\n",
       "    <tr>\n",
       "      <th>11310100</th>\n",
       "      <td>000545</td>\n",
       "      <td>흥국화재우</td>\n",
       "      <td>KOSPI</td>\n",
       "      <td>6290.0</td>\n",
       "      <td>-230.0</td>\n",
       "      <td>-3.53</td>\n",
       "      <td>6400.0</td>\n",
       "      <td>6400.0</td>\n",
       "      <td>6250.0</td>\n",
       "      <td>1273.0</td>\n",
       "      <td>7.994170e+06</td>\n",
       "      <td>4.830720e+09</td>\n",
       "      <td>768000</td>\n",
       "      <td>2022-10-12</td>\n",
       "    </tr>\n",
       "    <tr>\n",
       "      <th>11310101</th>\n",
       "      <td>003280</td>\n",
       "      <td>흥아해운</td>\n",
       "      <td>KOSPI</td>\n",
       "      <td>1835.0</td>\n",
       "      <td>420.0</td>\n",
       "      <td>29.68</td>\n",
       "      <td>1430.0</td>\n",
       "      <td>1835.0</td>\n",
       "      <td>1425.0</td>\n",
       "      <td>21335583.0</td>\n",
       "      <td>3.728019e+10</td>\n",
       "      <td>4.411797e+11</td>\n",
       "      <td>240424899</td>\n",
       "      <td>2022-10-12</td>\n",
       "    </tr>\n",
       "    <tr>\n",
       "      <th>11310102</th>\n",
       "      <td>037440</td>\n",
       "      <td>희림</td>\n",
       "      <td>KOSDAQ</td>\n",
       "      <td>8870.0</td>\n",
       "      <td>520.0</td>\n",
       "      <td>6.23</td>\n",
       "      <td>8300.0</td>\n",
       "      <td>9170.0</td>\n",
       "      <td>8280.0</td>\n",
       "      <td>3734478.0</td>\n",
       "      <td>3.296233e+10</td>\n",
       "      <td>1.234924e+11</td>\n",
       "      <td>13922475</td>\n",
       "      <td>2022-10-12</td>\n",
       "    </tr>\n",
       "    <tr>\n",
       "      <th>11310103</th>\n",
       "      <td>238490</td>\n",
       "      <td>힘스</td>\n",
       "      <td>KOSDAQ</td>\n",
       "      <td>6180.0</td>\n",
       "      <td>-140.0</td>\n",
       "      <td>-2.22</td>\n",
       "      <td>6380.0</td>\n",
       "      <td>6380.0</td>\n",
       "      <td>6160.0</td>\n",
       "      <td>15304.0</td>\n",
       "      <td>9.528175e+07</td>\n",
       "      <td>6.990962e+10</td>\n",
       "      <td>11312236</td>\n",
       "      <td>2022-10-12</td>\n",
       "    </tr>\n",
       "  </tbody>\n",
       "</table>\n",
       "</div>"
      ],
      "text/plain": [
       "         com_code com_name  m_type    close    diff  ratio     open     high  \\\n",
       "11310099   000547  흥국화재2우B   KOSPI  21000.0 -2500.0 -10.64  23250.0  23250.0   \n",
       "11310100   000545    흥국화재우   KOSPI   6290.0  -230.0  -3.53   6400.0   6400.0   \n",
       "11310101   003280     흥아해운   KOSPI   1835.0   420.0  29.68   1430.0   1835.0   \n",
       "11310102   037440       희림  KOSDAQ   8870.0   520.0   6.23   8300.0   9170.0   \n",
       "11310103   238490       힘스  KOSDAQ   6180.0  -140.0  -2.22   6380.0   6380.0   \n",
       "\n",
       "              low      volume         value       t_value   t_volume  \\\n",
       "11310099  20850.0      5498.0  1.174935e+08  3.225600e+09     153600   \n",
       "11310100   6250.0      1273.0  7.994170e+06  4.830720e+09     768000   \n",
       "11310101   1425.0  21335583.0  3.728019e+10  4.411797e+11  240424899   \n",
       "11310102   8280.0   3734478.0  3.296233e+10  1.234924e+11   13922475   \n",
       "11310103   6160.0     15304.0  9.528175e+07  6.990962e+10   11312236   \n",
       "\n",
       "                date  \n",
       "11310099  2022-10-12  \n",
       "11310100  2022-10-12  \n",
       "11310101  2022-10-12  \n",
       "11310102  2022-10-12  \n",
       "11310103  2022-10-12  "
      ]
     },
     "execution_count": 4,
     "metadata": {},
     "output_type": "execute_result"
    }
   ],
   "source": [
    "part1012_df.tail()"
   ]
  },
  {
   "cell_type": "code",
   "execution_count": 5,
   "metadata": {},
   "outputs": [
    {
     "name": "stdout",
     "output_type": "stream",
     "text": [
      "<class 'pandas.core.frame.DataFrame'>\n",
      "Int64Index: 11310104 entries, 0 to 11310103\n",
      "Data columns (total 14 columns):\n",
      " #   Column    Dtype  \n",
      "---  ------    -----  \n",
      " 0   com_code  object \n",
      " 1   com_name  object \n",
      " 2   m_type    object \n",
      " 3   close     float64\n",
      " 4   diff      float64\n",
      " 5   ratio     float64\n",
      " 6   open      float64\n",
      " 7   high      float64\n",
      " 8   low       float64\n",
      " 9   volume    float64\n",
      " 10  value     float64\n",
      " 11  t_value   float64\n",
      " 12  t_volume  int64  \n",
      " 13  date      object \n",
      "dtypes: float64(9), int64(1), object(4)\n",
      "memory usage: 1.3+ GB\n"
     ]
    }
   ],
   "source": [
    "part1012_df.info()"
   ]
  },
  {
   "cell_type": "code",
   "execution_count": 6,
   "metadata": {},
   "outputs": [],
   "source": [
    "part1012_df.to_csv(\"~/projects/data/crawling/krx/merge/krx-merge-20221012.csv\")"
   ]
  },
  {
   "cell_type": "code",
   "execution_count": null,
   "metadata": {},
   "outputs": [],
   "source": []
  }
 ],
 "metadata": {
  "kernelspec": {
   "display_name": "Python 3.9.13 ('tf27p39')",
   "language": "python",
   "name": "python3"
  },
  "language_info": {
   "codemirror_mode": {
    "name": "ipython",
    "version": 3
   },
   "file_extension": ".py",
   "mimetype": "text/x-python",
   "name": "python",
   "nbconvert_exporter": "python",
   "pygments_lexer": "ipython3",
   "version": "3.9.13"
  },
  "orig_nbformat": 4,
  "vscode": {
   "interpreter": {
    "hash": "adc6a6ffc7682364230b93b75ca0d1bdd8db84ff27ffd4d90b08b9e56198ae80"
   }
  }
 },
 "nbformat": 4,
 "nbformat_minor": 2
}
