{
 "cells": [
  {
   "cell_type": "code",
   "execution_count": 1,
   "metadata": {},
   "outputs": [],
   "source": [
    "import tensorflow as tf\n",
    "import numpy as np"
   ]
  },
  {
   "cell_type": "code",
   "execution_count": 3,
   "metadata": {},
   "outputs": [],
   "source": [
    "from utils.support_tf import LogLevelManager as llm\n",
    "llm.set(2)"
   ]
  },
  {
   "cell_type": "markdown",
   "metadata": {},
   "source": [
    "# tensor 생성"
   ]
  },
  {
   "cell_type": "markdown",
   "metadata": {},
   "source": [
    "## tf.constant"
   ]
  },
  {
   "cell_type": "code",
   "execution_count": 12,
   "metadata": {},
   "outputs": [
    {
     "data": {
      "text/plain": [
       "<tf.Tensor: shape=(12,), dtype=float64, numpy=array([ 1.,  2.,  3.,  4.,  5.,  6.,  7.,  8.,  9., 10., 11., 12.])>"
      ]
     },
     "execution_count": 12,
     "metadata": {},
     "output_type": "execute_result"
    }
   ],
   "source": [
    "# 리스트를 이용해 상수형 텐서를 생성함\n",
    "\n",
    "t1 = tf.constant([1, 2, 3, 4, 5, 6, 7, 8, 9, 10, 11, 12], dtype=tf.float64)\n",
    "t1"
   ]
  },
  {
   "cell_type": "code",
   "execution_count": 13,
   "metadata": {},
   "outputs": [
    {
     "data": {
      "text/plain": [
       "array([ 1.,  2.,  3.,  4.,  5.,  6.,  7.,  8.,  9., 10., 11., 12.])"
      ]
     },
     "execution_count": 13,
     "metadata": {},
     "output_type": "execute_result"
    }
   ],
   "source": [
    "t1.numpy()"
   ]
  },
  {
   "cell_type": "code",
   "execution_count": 14,
   "metadata": {},
   "outputs": [
    {
     "name": "stdout",
     "output_type": "stream",
     "text": [
      "tf.Tensor(1.0, shape=(), dtype=float64)\n",
      "tf.Tensor(2.0, shape=(), dtype=float64)\n",
      "tf.Tensor(3.0, shape=(), dtype=float64)\n",
      "tf.Tensor(4.0, shape=(), dtype=float64)\n",
      "tf.Tensor(5.0, shape=(), dtype=float64)\n",
      "tf.Tensor(6.0, shape=(), dtype=float64)\n",
      "tf.Tensor(7.0, shape=(), dtype=float64)\n",
      "tf.Tensor(8.0, shape=(), dtype=float64)\n",
      "tf.Tensor(9.0, shape=(), dtype=float64)\n",
      "tf.Tensor(10.0, shape=(), dtype=float64)\n",
      "tf.Tensor(11.0, shape=(), dtype=float64)\n",
      "tf.Tensor(12.0, shape=(), dtype=float64)\n"
     ]
    }
   ],
   "source": [
    "for t in t1:\n",
    "    print(t)"
   ]
  },
  {
   "cell_type": "code",
   "execution_count": 16,
   "metadata": {},
   "outputs": [
    {
     "name": "stdout",
     "output_type": "stream",
     "text": [
      "tf.Tensor(\n",
      "[[1. 2.]\n",
      " [3. 4.]], shape=(2, 2), dtype=float64)\n",
      "tf.Tensor(\n",
      "[[5. 6.]\n",
      " [7. 8.]], shape=(2, 2), dtype=float64)\n",
      "tf.Tensor(\n",
      "[[ 9. 10.]\n",
      " [11. 12.]], shape=(2, 2), dtype=float64)\n"
     ]
    }
   ],
   "source": [
    "t2 = tf.constant([1, 2, 3, 4, 5, 6, 7, 8, 9, 10, 11, 12], shape=(3,2,2), dtype=tf.float64)\n",
    "for t in t2:\n",
    "    print(t)"
   ]
  },
  {
   "cell_type": "markdown",
   "metadata": {},
   "source": [
    "# tensor merge"
   ]
  },
  {
   "cell_type": "markdown",
   "metadata": {},
   "source": [
    "## tf.concat"
   ]
  },
  {
   "cell_type": "code",
   "execution_count": 4,
   "metadata": {},
   "outputs": [
    {
     "data": {
      "text/plain": [
       "(tensorflow.python.framework.ops.EagerTensor, list)"
      ]
     },
     "execution_count": 4,
     "metadata": {},
     "output_type": "execute_result"
    }
   ],
   "source": [
    "t1 = tf.constant([[1, 2, 3], [4, 5, 6]], dtype=tf.float32)\n",
    "t2 = [[7, 8, 9], [10, 11, 12]]\n",
    "type(t1), type(t2)"
   ]
  },
  {
   "cell_type": "code",
   "execution_count": 5,
   "metadata": {},
   "outputs": [
    {
     "data": {
      "text/plain": [
       "(<tf.Tensor: shape=(4, 3), dtype=float32, numpy=\n",
       " array([[ 1.,  2.,  3.],\n",
       "        [ 4.,  5.,  6.],\n",
       "        [ 7.,  8.,  9.],\n",
       "        [10., 11., 12.]], dtype=float32)>,\n",
       " <tf.Tensor: shape=(2, 6), dtype=float32, numpy=\n",
       " array([[ 1.,  2.,  3.,  7.,  8.,  9.],\n",
       "        [ 4.,  5.,  6., 10., 11., 12.]], dtype=float32)>)"
      ]
     },
     "execution_count": 5,
     "metadata": {},
     "output_type": "execute_result"
    }
   ],
   "source": [
    "t3 = tf.concat([t1, t2], axis=0)\n",
    "t4 = tf.concat([t1, t2], axis=1)\n",
    "t3, t4"
   ]
  },
  {
   "cell_type": "markdown",
   "metadata": {},
   "source": [
    "## tf.stack"
   ]
  },
  {
   "cell_type": "code",
   "execution_count": 7,
   "metadata": {},
   "outputs": [
    {
     "data": {
      "text/plain": [
       "(<tf.Tensor: shape=(2, 3), dtype=float32, numpy=\n",
       " array([[1., 2., 3.],\n",
       "        [4., 5., 6.]], dtype=float32)>,\n",
       " <tf.Tensor: shape=(3, 2), dtype=float32, numpy=\n",
       " array([[1., 4.],\n",
       "        [2., 5.],\n",
       "        [3., 6.]], dtype=float32)>)"
      ]
     },
     "execution_count": 7,
     "metadata": {},
     "output_type": "execute_result"
    }
   ],
   "source": [
    "t5 = tf.stack(t1, axis=0, name=\"tensor5\")\n",
    "t6 = tf.stack(t1, axis=1)\n",
    "t5, t6"
   ]
  },
  {
   "cell_type": "code",
   "execution_count": 8,
   "metadata": {},
   "outputs": [
    {
     "data": {
      "text/plain": [
       "(<tf.Tensor: shape=(2, 2, 3), dtype=float32, numpy=\n",
       " array([[[ 1.,  2.,  3.],\n",
       "         [ 4.,  5.,  6.]],\n",
       " \n",
       "        [[ 7.,  8.,  9.],\n",
       "         [10., 11., 12.]]], dtype=float32)>,\n",
       " <tf.Tensor: shape=(2, 2, 3), dtype=float32, numpy=\n",
       " array([[[ 1.,  2.,  3.],\n",
       "         [ 7.,  8.,  9.]],\n",
       " \n",
       "        [[ 4.,  5.,  6.],\n",
       "         [10., 11., 12.]]], dtype=float32)>)"
      ]
     },
     "execution_count": 8,
     "metadata": {},
     "output_type": "execute_result"
    }
   ],
   "source": [
    "t7 = tf.stack([t1, t2], axis=0)\n",
    "t8 = tf.stack([t1, t2], axis=1)\n",
    "t7, t8"
   ]
  },
  {
   "cell_type": "code",
   "execution_count": null,
   "metadata": {},
   "outputs": [],
   "source": []
  }
 ],
 "metadata": {
  "kernelspec": {
   "display_name": "Python 3.9.13 ('tf27p39')",
   "language": "python",
   "name": "python3"
  },
  "language_info": {
   "codemirror_mode": {
    "name": "ipython",
    "version": 3
   },
   "file_extension": ".py",
   "mimetype": "text/x-python",
   "name": "python",
   "nbconvert_exporter": "python",
   "pygments_lexer": "ipython3",
   "version": "3.9.13"
  },
  "orig_nbformat": 4,
  "vscode": {
   "interpreter": {
    "hash": "adc6a6ffc7682364230b93b75ca0d1bdd8db84ff27ffd4d90b08b9e56198ae80"
   }
  }
 },
 "nbformat": 4,
 "nbformat_minor": 2
}
